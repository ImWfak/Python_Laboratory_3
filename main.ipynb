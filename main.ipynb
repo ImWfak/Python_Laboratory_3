{
 "cells": [
  {
   "cell_type": "code",
   "execution_count": 99,
   "id": "initial_id",
   "metadata": {
    "collapsed": true,
    "ExecuteTime": {
     "end_time": "2023-11-12T21:11:34.954065600Z",
     "start_time": "2023-11-12T21:11:34.703807700Z"
    }
   },
   "outputs": [
    {
     "ename": "AttributeError",
     "evalue": "'list' object has no attribute 'equals'",
     "output_type": "error",
     "traceback": [
      "\u001B[1;31m---------------------------------------------------------------------------\u001B[0m",
      "\u001B[1;31mAttributeError\u001B[0m                            Traceback (most recent call last)",
      "File \u001B[1;32mD:\\Software\\Software for code\\Python 311\\Lib\\site-packages\\IPython\\core\\formatters.py:708\u001B[0m, in \u001B[0;36mPlainTextFormatter.__call__\u001B[1;34m(self, obj)\u001B[0m\n\u001B[0;32m    701\u001B[0m stream \u001B[38;5;241m=\u001B[39m StringIO()\n\u001B[0;32m    702\u001B[0m printer \u001B[38;5;241m=\u001B[39m pretty\u001B[38;5;241m.\u001B[39mRepresentationPrinter(stream, \u001B[38;5;28mself\u001B[39m\u001B[38;5;241m.\u001B[39mverbose,\n\u001B[0;32m    703\u001B[0m     \u001B[38;5;28mself\u001B[39m\u001B[38;5;241m.\u001B[39mmax_width, \u001B[38;5;28mself\u001B[39m\u001B[38;5;241m.\u001B[39mnewline,\n\u001B[0;32m    704\u001B[0m     max_seq_length\u001B[38;5;241m=\u001B[39m\u001B[38;5;28mself\u001B[39m\u001B[38;5;241m.\u001B[39mmax_seq_length,\n\u001B[0;32m    705\u001B[0m     singleton_pprinters\u001B[38;5;241m=\u001B[39m\u001B[38;5;28mself\u001B[39m\u001B[38;5;241m.\u001B[39msingleton_printers,\n\u001B[0;32m    706\u001B[0m     type_pprinters\u001B[38;5;241m=\u001B[39m\u001B[38;5;28mself\u001B[39m\u001B[38;5;241m.\u001B[39mtype_printers,\n\u001B[0;32m    707\u001B[0m     deferred_pprinters\u001B[38;5;241m=\u001B[39m\u001B[38;5;28mself\u001B[39m\u001B[38;5;241m.\u001B[39mdeferred_printers)\n\u001B[1;32m--> 708\u001B[0m \u001B[43mprinter\u001B[49m\u001B[38;5;241;43m.\u001B[39;49m\u001B[43mpretty\u001B[49m\u001B[43m(\u001B[49m\u001B[43mobj\u001B[49m\u001B[43m)\u001B[49m\n\u001B[0;32m    709\u001B[0m printer\u001B[38;5;241m.\u001B[39mflush()\n\u001B[0;32m    710\u001B[0m \u001B[38;5;28;01mreturn\u001B[39;00m stream\u001B[38;5;241m.\u001B[39mgetvalue()\n",
      "File \u001B[1;32mD:\\Software\\Software for code\\Python 311\\Lib\\site-packages\\IPython\\lib\\pretty.py:410\u001B[0m, in \u001B[0;36mRepresentationPrinter.pretty\u001B[1;34m(self, obj)\u001B[0m\n\u001B[0;32m    407\u001B[0m                         \u001B[38;5;28;01mreturn\u001B[39;00m meth(obj, \u001B[38;5;28mself\u001B[39m, cycle)\n\u001B[0;32m    408\u001B[0m                 \u001B[38;5;28;01mif\u001B[39;00m \u001B[38;5;28mcls\u001B[39m \u001B[38;5;129;01mis\u001B[39;00m \u001B[38;5;129;01mnot\u001B[39;00m \u001B[38;5;28mobject\u001B[39m \\\n\u001B[0;32m    409\u001B[0m                         \u001B[38;5;129;01mand\u001B[39;00m \u001B[38;5;28mcallable\u001B[39m(\u001B[38;5;28mcls\u001B[39m\u001B[38;5;241m.\u001B[39m\u001B[38;5;18m__dict__\u001B[39m\u001B[38;5;241m.\u001B[39mget(\u001B[38;5;124m'\u001B[39m\u001B[38;5;124m__repr__\u001B[39m\u001B[38;5;124m'\u001B[39m)):\n\u001B[1;32m--> 410\u001B[0m                     \u001B[38;5;28;01mreturn\u001B[39;00m \u001B[43m_repr_pprint\u001B[49m\u001B[43m(\u001B[49m\u001B[43mobj\u001B[49m\u001B[43m,\u001B[49m\u001B[43m \u001B[49m\u001B[38;5;28;43mself\u001B[39;49m\u001B[43m,\u001B[49m\u001B[43m \u001B[49m\u001B[43mcycle\u001B[49m\u001B[43m)\u001B[49m\n\u001B[0;32m    412\u001B[0m     \u001B[38;5;28;01mreturn\u001B[39;00m _default_pprint(obj, \u001B[38;5;28mself\u001B[39m, cycle)\n\u001B[0;32m    413\u001B[0m \u001B[38;5;28;01mfinally\u001B[39;00m:\n",
      "File \u001B[1;32mD:\\Software\\Software for code\\Python 311\\Lib\\site-packages\\IPython\\lib\\pretty.py:778\u001B[0m, in \u001B[0;36m_repr_pprint\u001B[1;34m(obj, p, cycle)\u001B[0m\n\u001B[0;32m    776\u001B[0m \u001B[38;5;250m\u001B[39m\u001B[38;5;124;03m\"\"\"A pprint that just redirects to the normal repr function.\"\"\"\u001B[39;00m\n\u001B[0;32m    777\u001B[0m \u001B[38;5;66;03m# Find newlines and replace them with p.break_()\u001B[39;00m\n\u001B[1;32m--> 778\u001B[0m output \u001B[38;5;241m=\u001B[39m \u001B[38;5;28mrepr\u001B[39m(obj)\n\u001B[0;32m    779\u001B[0m lines \u001B[38;5;241m=\u001B[39m output\u001B[38;5;241m.\u001B[39msplitlines()\n\u001B[0;32m    780\u001B[0m \u001B[38;5;28;01mwith\u001B[39;00m p\u001B[38;5;241m.\u001B[39mgroup():\n",
      "File \u001B[1;32mD:\\Software\\Software for code\\Python 311\\Lib\\site-packages\\pandas\\core\\frame.py:1133\u001B[0m, in \u001B[0;36mDataFrame.__repr__\u001B[1;34m(self)\u001B[0m\n\u001B[0;32m   1130\u001B[0m     \u001B[38;5;28;01mreturn\u001B[39;00m buf\u001B[38;5;241m.\u001B[39mgetvalue()\n\u001B[0;32m   1132\u001B[0m repr_params \u001B[38;5;241m=\u001B[39m fmt\u001B[38;5;241m.\u001B[39mget_dataframe_repr_params()\n\u001B[1;32m-> 1133\u001B[0m \u001B[38;5;28;01mreturn\u001B[39;00m \u001B[38;5;28;43mself\u001B[39;49m\u001B[38;5;241;43m.\u001B[39;49m\u001B[43mto_string\u001B[49m\u001B[43m(\u001B[49m\u001B[38;5;241;43m*\u001B[39;49m\u001B[38;5;241;43m*\u001B[39;49m\u001B[43mrepr_params\u001B[49m\u001B[43m)\u001B[49m\n",
      "File \u001B[1;32mD:\\Software\\Software for code\\Python 311\\Lib\\site-packages\\pandas\\core\\frame.py:1292\u001B[0m, in \u001B[0;36mDataFrame.to_string\u001B[1;34m(self, buf, columns, col_space, header, index, na_rep, formatters, float_format, sparsify, index_names, justify, max_rows, max_cols, show_dimensions, decimal, line_width, min_rows, max_colwidth, encoding)\u001B[0m\n\u001B[0;32m   1289\u001B[0m \u001B[38;5;28;01mfrom\u001B[39;00m \u001B[38;5;21;01mpandas\u001B[39;00m \u001B[38;5;28;01mimport\u001B[39;00m option_context\n\u001B[0;32m   1291\u001B[0m \u001B[38;5;28;01mwith\u001B[39;00m option_context(\u001B[38;5;124m\"\u001B[39m\u001B[38;5;124mdisplay.max_colwidth\u001B[39m\u001B[38;5;124m\"\u001B[39m, max_colwidth):\n\u001B[1;32m-> 1292\u001B[0m     formatter \u001B[38;5;241m=\u001B[39m \u001B[43mfmt\u001B[49m\u001B[38;5;241;43m.\u001B[39;49m\u001B[43mDataFrameFormatter\u001B[49m\u001B[43m(\u001B[49m\n\u001B[0;32m   1293\u001B[0m \u001B[43m        \u001B[49m\u001B[38;5;28;43mself\u001B[39;49m\u001B[43m,\u001B[49m\n\u001B[0;32m   1294\u001B[0m \u001B[43m        \u001B[49m\u001B[43mcolumns\u001B[49m\u001B[38;5;241;43m=\u001B[39;49m\u001B[43mcolumns\u001B[49m\u001B[43m,\u001B[49m\n\u001B[0;32m   1295\u001B[0m \u001B[43m        \u001B[49m\u001B[43mcol_space\u001B[49m\u001B[38;5;241;43m=\u001B[39;49m\u001B[43mcol_space\u001B[49m\u001B[43m,\u001B[49m\n\u001B[0;32m   1296\u001B[0m \u001B[43m        \u001B[49m\u001B[43mna_rep\u001B[49m\u001B[38;5;241;43m=\u001B[39;49m\u001B[43mna_rep\u001B[49m\u001B[43m,\u001B[49m\n\u001B[0;32m   1297\u001B[0m \u001B[43m        \u001B[49m\u001B[43mformatters\u001B[49m\u001B[38;5;241;43m=\u001B[39;49m\u001B[43mformatters\u001B[49m\u001B[43m,\u001B[49m\n\u001B[0;32m   1298\u001B[0m \u001B[43m        \u001B[49m\u001B[43mfloat_format\u001B[49m\u001B[38;5;241;43m=\u001B[39;49m\u001B[43mfloat_format\u001B[49m\u001B[43m,\u001B[49m\n\u001B[0;32m   1299\u001B[0m \u001B[43m        \u001B[49m\u001B[43msparsify\u001B[49m\u001B[38;5;241;43m=\u001B[39;49m\u001B[43msparsify\u001B[49m\u001B[43m,\u001B[49m\n\u001B[0;32m   1300\u001B[0m \u001B[43m        \u001B[49m\u001B[43mjustify\u001B[49m\u001B[38;5;241;43m=\u001B[39;49m\u001B[43mjustify\u001B[49m\u001B[43m,\u001B[49m\n\u001B[0;32m   1301\u001B[0m \u001B[43m        \u001B[49m\u001B[43mindex_names\u001B[49m\u001B[38;5;241;43m=\u001B[39;49m\u001B[43mindex_names\u001B[49m\u001B[43m,\u001B[49m\n\u001B[0;32m   1302\u001B[0m \u001B[43m        \u001B[49m\u001B[43mheader\u001B[49m\u001B[38;5;241;43m=\u001B[39;49m\u001B[43mheader\u001B[49m\u001B[43m,\u001B[49m\n\u001B[0;32m   1303\u001B[0m \u001B[43m        \u001B[49m\u001B[43mindex\u001B[49m\u001B[38;5;241;43m=\u001B[39;49m\u001B[43mindex\u001B[49m\u001B[43m,\u001B[49m\n\u001B[0;32m   1304\u001B[0m \u001B[43m        \u001B[49m\u001B[43mmin_rows\u001B[49m\u001B[38;5;241;43m=\u001B[39;49m\u001B[43mmin_rows\u001B[49m\u001B[43m,\u001B[49m\n\u001B[0;32m   1305\u001B[0m \u001B[43m        \u001B[49m\u001B[43mmax_rows\u001B[49m\u001B[38;5;241;43m=\u001B[39;49m\u001B[43mmax_rows\u001B[49m\u001B[43m,\u001B[49m\n\u001B[0;32m   1306\u001B[0m \u001B[43m        \u001B[49m\u001B[43mmax_cols\u001B[49m\u001B[38;5;241;43m=\u001B[39;49m\u001B[43mmax_cols\u001B[49m\u001B[43m,\u001B[49m\n\u001B[0;32m   1307\u001B[0m \u001B[43m        \u001B[49m\u001B[43mshow_dimensions\u001B[49m\u001B[38;5;241;43m=\u001B[39;49m\u001B[43mshow_dimensions\u001B[49m\u001B[43m,\u001B[49m\n\u001B[0;32m   1308\u001B[0m \u001B[43m        \u001B[49m\u001B[43mdecimal\u001B[49m\u001B[38;5;241;43m=\u001B[39;49m\u001B[43mdecimal\u001B[49m\u001B[43m,\u001B[49m\n\u001B[0;32m   1309\u001B[0m \u001B[43m    \u001B[49m\u001B[43m)\u001B[49m\n\u001B[0;32m   1310\u001B[0m     \u001B[38;5;28;01mreturn\u001B[39;00m fmt\u001B[38;5;241m.\u001B[39mDataFrameRenderer(formatter)\u001B[38;5;241m.\u001B[39mto_string(\n\u001B[0;32m   1311\u001B[0m         buf\u001B[38;5;241m=\u001B[39mbuf,\n\u001B[0;32m   1312\u001B[0m         encoding\u001B[38;5;241m=\u001B[39mencoding,\n\u001B[0;32m   1313\u001B[0m         line_width\u001B[38;5;241m=\u001B[39mline_width,\n\u001B[0;32m   1314\u001B[0m     )\n",
      "File \u001B[1;32mD:\\Software\\Software for code\\Python 311\\Lib\\site-packages\\pandas\\io\\formats\\format.py:608\u001B[0m, in \u001B[0;36mDataFrameFormatter.__init__\u001B[1;34m(self, frame, columns, col_space, header, index, na_rep, formatters, justify, float_format, sparsify, index_names, max_rows, min_rows, max_cols, show_dimensions, decimal, bold_rows, escape)\u001B[0m\n\u001B[0;32m    605\u001B[0m \u001B[38;5;28mself\u001B[39m\u001B[38;5;241m.\u001B[39mmax_rows_fitted \u001B[38;5;241m=\u001B[39m \u001B[38;5;28mself\u001B[39m\u001B[38;5;241m.\u001B[39m_calc_max_rows_fitted()\n\u001B[0;32m    607\u001B[0m \u001B[38;5;28mself\u001B[39m\u001B[38;5;241m.\u001B[39mtr_frame \u001B[38;5;241m=\u001B[39m \u001B[38;5;28mself\u001B[39m\u001B[38;5;241m.\u001B[39mframe\n\u001B[1;32m--> 608\u001B[0m \u001B[38;5;28;43mself\u001B[39;49m\u001B[38;5;241;43m.\u001B[39;49m\u001B[43mtruncate\u001B[49m\u001B[43m(\u001B[49m\u001B[43m)\u001B[49m\n\u001B[0;32m    609\u001B[0m \u001B[38;5;28mself\u001B[39m\u001B[38;5;241m.\u001B[39madj \u001B[38;5;241m=\u001B[39m get_adjustment()\n",
      "File \u001B[1;32mD:\\Software\\Software for code\\Python 311\\Lib\\site-packages\\pandas\\io\\formats\\format.py:797\u001B[0m, in \u001B[0;36mDataFrameFormatter.truncate\u001B[1;34m(self)\u001B[0m\n\u001B[0;32m    794\u001B[0m     \u001B[38;5;28mself\u001B[39m\u001B[38;5;241m.\u001B[39m_truncate_horizontally()\n\u001B[0;32m    796\u001B[0m \u001B[38;5;28;01mif\u001B[39;00m \u001B[38;5;28mself\u001B[39m\u001B[38;5;241m.\u001B[39mis_truncated_vertically:\n\u001B[1;32m--> 797\u001B[0m     \u001B[38;5;28;43mself\u001B[39;49m\u001B[38;5;241;43m.\u001B[39;49m\u001B[43m_truncate_vertically\u001B[49m\u001B[43m(\u001B[49m\u001B[43m)\u001B[49m\n",
      "File \u001B[1;32mD:\\Software\\Software for code\\Python 311\\Lib\\site-packages\\pandas\\io\\formats\\format.py:837\u001B[0m, in \u001B[0;36mDataFrameFormatter._truncate_vertically\u001B[1;34m(self)\u001B[0m\n\u001B[0;32m    835\u001B[0m     head \u001B[38;5;241m=\u001B[39m \u001B[38;5;28mself\u001B[39m\u001B[38;5;241m.\u001B[39mtr_frame\u001B[38;5;241m.\u001B[39miloc[:row_num, :]\n\u001B[0;32m    836\u001B[0m     tail \u001B[38;5;241m=\u001B[39m \u001B[38;5;28mself\u001B[39m\u001B[38;5;241m.\u001B[39mtr_frame\u001B[38;5;241m.\u001B[39miloc[\u001B[38;5;241m-\u001B[39mrow_num:, :]\n\u001B[1;32m--> 837\u001B[0m     \u001B[38;5;28mself\u001B[39m\u001B[38;5;241m.\u001B[39mtr_frame \u001B[38;5;241m=\u001B[39m \u001B[43mconcat\u001B[49m\u001B[43m(\u001B[49m\u001B[43m(\u001B[49m\u001B[43mhead\u001B[49m\u001B[43m,\u001B[49m\u001B[43m \u001B[49m\u001B[43mtail\u001B[49m\u001B[43m)\u001B[49m\u001B[43m)\u001B[49m\n\u001B[0;32m    838\u001B[0m \u001B[38;5;28;01melse\u001B[39;00m:\n\u001B[0;32m    839\u001B[0m     row_num \u001B[38;5;241m=\u001B[39m cast(\u001B[38;5;28mint\u001B[39m, \u001B[38;5;28mself\u001B[39m\u001B[38;5;241m.\u001B[39mmax_rows)\n",
      "File \u001B[1;32mD:\\Software\\Software for code\\Python 311\\Lib\\site-packages\\pandas\\core\\reshape\\concat.py:393\u001B[0m, in \u001B[0;36mconcat\u001B[1;34m(objs, axis, join, ignore_index, keys, levels, names, verify_integrity, sort, copy)\u001B[0m\n\u001B[0;32m    378\u001B[0m     copy \u001B[38;5;241m=\u001B[39m \u001B[38;5;28;01mFalse\u001B[39;00m\n\u001B[0;32m    380\u001B[0m op \u001B[38;5;241m=\u001B[39m _Concatenator(\n\u001B[0;32m    381\u001B[0m     objs,\n\u001B[0;32m    382\u001B[0m     axis\u001B[38;5;241m=\u001B[39maxis,\n\u001B[1;32m   (...)\u001B[0m\n\u001B[0;32m    390\u001B[0m     sort\u001B[38;5;241m=\u001B[39msort,\n\u001B[0;32m    391\u001B[0m )\n\u001B[1;32m--> 393\u001B[0m \u001B[38;5;28;01mreturn\u001B[39;00m \u001B[43mop\u001B[49m\u001B[38;5;241;43m.\u001B[39;49m\u001B[43mget_result\u001B[49m\u001B[43m(\u001B[49m\u001B[43m)\u001B[49m\n",
      "File \u001B[1;32mD:\\Software\\Software for code\\Python 311\\Lib\\site-packages\\pandas\\core\\reshape\\concat.py:675\u001B[0m, in \u001B[0;36m_Concatenator.get_result\u001B[1;34m(self)\u001B[0m\n\u001B[0;32m    673\u001B[0m     \u001B[38;5;66;03m# 1-ax to convert BlockManager axis to DataFrame axis\u001B[39;00m\n\u001B[0;32m    674\u001B[0m     obj_labels \u001B[38;5;241m=\u001B[39m obj\u001B[38;5;241m.\u001B[39maxes[\u001B[38;5;241m1\u001B[39m \u001B[38;5;241m-\u001B[39m ax]\n\u001B[1;32m--> 675\u001B[0m     \u001B[38;5;28;01mif\u001B[39;00m \u001B[38;5;129;01mnot\u001B[39;00m \u001B[43mnew_labels\u001B[49m\u001B[38;5;241;43m.\u001B[39;49m\u001B[43mequals\u001B[49m(obj_labels):\n\u001B[0;32m    676\u001B[0m         indexers[ax] \u001B[38;5;241m=\u001B[39m obj_labels\u001B[38;5;241m.\u001B[39mget_indexer(new_labels)\n\u001B[0;32m    678\u001B[0m mgrs_indexers\u001B[38;5;241m.\u001B[39mappend((obj\u001B[38;5;241m.\u001B[39m_mgr, indexers))\n",
      "\u001B[1;31mAttributeError\u001B[0m: 'list' object has no attribute 'equals'"
     ]
    },
    {
     "ename": "AttributeError",
     "evalue": "'list' object has no attribute 'equals'",
     "output_type": "error",
     "traceback": [
      "\u001B[1;31m---------------------------------------------------------------------------\u001B[0m",
      "\u001B[1;31mAttributeError\u001B[0m                            Traceback (most recent call last)",
      "File \u001B[1;32mD:\\Software\\Software for code\\Python 311\\Lib\\site-packages\\IPython\\core\\formatters.py:344\u001B[0m, in \u001B[0;36mBaseFormatter.__call__\u001B[1;34m(self, obj)\u001B[0m\n\u001B[0;32m    342\u001B[0m     method \u001B[38;5;241m=\u001B[39m get_real_method(obj, \u001B[38;5;28mself\u001B[39m\u001B[38;5;241m.\u001B[39mprint_method)\n\u001B[0;32m    343\u001B[0m     \u001B[38;5;28;01mif\u001B[39;00m method \u001B[38;5;129;01mis\u001B[39;00m \u001B[38;5;129;01mnot\u001B[39;00m \u001B[38;5;28;01mNone\u001B[39;00m:\n\u001B[1;32m--> 344\u001B[0m         \u001B[38;5;28;01mreturn\u001B[39;00m \u001B[43mmethod\u001B[49m\u001B[43m(\u001B[49m\u001B[43m)\u001B[49m\n\u001B[0;32m    345\u001B[0m     \u001B[38;5;28;01mreturn\u001B[39;00m \u001B[38;5;28;01mNone\u001B[39;00m\n\u001B[0;32m    346\u001B[0m \u001B[38;5;28;01melse\u001B[39;00m:\n",
      "File \u001B[1;32mD:\\Software\\Software for code\\Python 311\\Lib\\site-packages\\pandas\\core\\frame.py:1155\u001B[0m, in \u001B[0;36mDataFrame._repr_html_\u001B[1;34m(self)\u001B[0m\n\u001B[0;32m   1152\u001B[0m     max_cols \u001B[38;5;241m=\u001B[39m get_option(\u001B[38;5;124m\"\u001B[39m\u001B[38;5;124mdisplay.max_columns\u001B[39m\u001B[38;5;124m\"\u001B[39m)\n\u001B[0;32m   1153\u001B[0m     show_dimensions \u001B[38;5;241m=\u001B[39m get_option(\u001B[38;5;124m\"\u001B[39m\u001B[38;5;124mdisplay.show_dimensions\u001B[39m\u001B[38;5;124m\"\u001B[39m)\n\u001B[1;32m-> 1155\u001B[0m     formatter \u001B[38;5;241m=\u001B[39m \u001B[43mfmt\u001B[49m\u001B[38;5;241;43m.\u001B[39;49m\u001B[43mDataFrameFormatter\u001B[49m\u001B[43m(\u001B[49m\n\u001B[0;32m   1156\u001B[0m \u001B[43m        \u001B[49m\u001B[38;5;28;43mself\u001B[39;49m\u001B[43m,\u001B[49m\n\u001B[0;32m   1157\u001B[0m \u001B[43m        \u001B[49m\u001B[43mcolumns\u001B[49m\u001B[38;5;241;43m=\u001B[39;49m\u001B[38;5;28;43;01mNone\u001B[39;49;00m\u001B[43m,\u001B[49m\n\u001B[0;32m   1158\u001B[0m \u001B[43m        \u001B[49m\u001B[43mcol_space\u001B[49m\u001B[38;5;241;43m=\u001B[39;49m\u001B[38;5;28;43;01mNone\u001B[39;49;00m\u001B[43m,\u001B[49m\n\u001B[0;32m   1159\u001B[0m \u001B[43m        \u001B[49m\u001B[43mna_rep\u001B[49m\u001B[38;5;241;43m=\u001B[39;49m\u001B[38;5;124;43m\"\u001B[39;49m\u001B[38;5;124;43mNaN\u001B[39;49m\u001B[38;5;124;43m\"\u001B[39;49m\u001B[43m,\u001B[49m\n\u001B[0;32m   1160\u001B[0m \u001B[43m        \u001B[49m\u001B[43mformatters\u001B[49m\u001B[38;5;241;43m=\u001B[39;49m\u001B[38;5;28;43;01mNone\u001B[39;49;00m\u001B[43m,\u001B[49m\n\u001B[0;32m   1161\u001B[0m \u001B[43m        \u001B[49m\u001B[43mfloat_format\u001B[49m\u001B[38;5;241;43m=\u001B[39;49m\u001B[38;5;28;43;01mNone\u001B[39;49;00m\u001B[43m,\u001B[49m\n\u001B[0;32m   1162\u001B[0m \u001B[43m        \u001B[49m\u001B[43msparsify\u001B[49m\u001B[38;5;241;43m=\u001B[39;49m\u001B[38;5;28;43;01mNone\u001B[39;49;00m\u001B[43m,\u001B[49m\n\u001B[0;32m   1163\u001B[0m \u001B[43m        \u001B[49m\u001B[43mjustify\u001B[49m\u001B[38;5;241;43m=\u001B[39;49m\u001B[38;5;28;43;01mNone\u001B[39;49;00m\u001B[43m,\u001B[49m\n\u001B[0;32m   1164\u001B[0m \u001B[43m        \u001B[49m\u001B[43mindex_names\u001B[49m\u001B[38;5;241;43m=\u001B[39;49m\u001B[38;5;28;43;01mTrue\u001B[39;49;00m\u001B[43m,\u001B[49m\n\u001B[0;32m   1165\u001B[0m \u001B[43m        \u001B[49m\u001B[43mheader\u001B[49m\u001B[38;5;241;43m=\u001B[39;49m\u001B[38;5;28;43;01mTrue\u001B[39;49;00m\u001B[43m,\u001B[49m\n\u001B[0;32m   1166\u001B[0m \u001B[43m        \u001B[49m\u001B[43mindex\u001B[49m\u001B[38;5;241;43m=\u001B[39;49m\u001B[38;5;28;43;01mTrue\u001B[39;49;00m\u001B[43m,\u001B[49m\n\u001B[0;32m   1167\u001B[0m \u001B[43m        \u001B[49m\u001B[43mbold_rows\u001B[49m\u001B[38;5;241;43m=\u001B[39;49m\u001B[38;5;28;43;01mTrue\u001B[39;49;00m\u001B[43m,\u001B[49m\n\u001B[0;32m   1168\u001B[0m \u001B[43m        \u001B[49m\u001B[43mescape\u001B[49m\u001B[38;5;241;43m=\u001B[39;49m\u001B[38;5;28;43;01mTrue\u001B[39;49;00m\u001B[43m,\u001B[49m\n\u001B[0;32m   1169\u001B[0m \u001B[43m        \u001B[49m\u001B[43mmax_rows\u001B[49m\u001B[38;5;241;43m=\u001B[39;49m\u001B[43mmax_rows\u001B[49m\u001B[43m,\u001B[49m\n\u001B[0;32m   1170\u001B[0m \u001B[43m        \u001B[49m\u001B[43mmin_rows\u001B[49m\u001B[38;5;241;43m=\u001B[39;49m\u001B[43mmin_rows\u001B[49m\u001B[43m,\u001B[49m\n\u001B[0;32m   1171\u001B[0m \u001B[43m        \u001B[49m\u001B[43mmax_cols\u001B[49m\u001B[38;5;241;43m=\u001B[39;49m\u001B[43mmax_cols\u001B[49m\u001B[43m,\u001B[49m\n\u001B[0;32m   1172\u001B[0m \u001B[43m        \u001B[49m\u001B[43mshow_dimensions\u001B[49m\u001B[38;5;241;43m=\u001B[39;49m\u001B[43mshow_dimensions\u001B[49m\u001B[43m,\u001B[49m\n\u001B[0;32m   1173\u001B[0m \u001B[43m        \u001B[49m\u001B[43mdecimal\u001B[49m\u001B[38;5;241;43m=\u001B[39;49m\u001B[38;5;124;43m\"\u001B[39;49m\u001B[38;5;124;43m.\u001B[39;49m\u001B[38;5;124;43m\"\u001B[39;49m\u001B[43m,\u001B[49m\n\u001B[0;32m   1174\u001B[0m \u001B[43m    \u001B[49m\u001B[43m)\u001B[49m\n\u001B[0;32m   1175\u001B[0m     \u001B[38;5;28;01mreturn\u001B[39;00m fmt\u001B[38;5;241m.\u001B[39mDataFrameRenderer(formatter)\u001B[38;5;241m.\u001B[39mto_html(notebook\u001B[38;5;241m=\u001B[39m\u001B[38;5;28;01mTrue\u001B[39;00m)\n\u001B[0;32m   1176\u001B[0m \u001B[38;5;28;01melse\u001B[39;00m:\n",
      "File \u001B[1;32mD:\\Software\\Software for code\\Python 311\\Lib\\site-packages\\pandas\\io\\formats\\format.py:608\u001B[0m, in \u001B[0;36mDataFrameFormatter.__init__\u001B[1;34m(self, frame, columns, col_space, header, index, na_rep, formatters, justify, float_format, sparsify, index_names, max_rows, min_rows, max_cols, show_dimensions, decimal, bold_rows, escape)\u001B[0m\n\u001B[0;32m    605\u001B[0m \u001B[38;5;28mself\u001B[39m\u001B[38;5;241m.\u001B[39mmax_rows_fitted \u001B[38;5;241m=\u001B[39m \u001B[38;5;28mself\u001B[39m\u001B[38;5;241m.\u001B[39m_calc_max_rows_fitted()\n\u001B[0;32m    607\u001B[0m \u001B[38;5;28mself\u001B[39m\u001B[38;5;241m.\u001B[39mtr_frame \u001B[38;5;241m=\u001B[39m \u001B[38;5;28mself\u001B[39m\u001B[38;5;241m.\u001B[39mframe\n\u001B[1;32m--> 608\u001B[0m \u001B[38;5;28;43mself\u001B[39;49m\u001B[38;5;241;43m.\u001B[39;49m\u001B[43mtruncate\u001B[49m\u001B[43m(\u001B[49m\u001B[43m)\u001B[49m\n\u001B[0;32m    609\u001B[0m \u001B[38;5;28mself\u001B[39m\u001B[38;5;241m.\u001B[39madj \u001B[38;5;241m=\u001B[39m get_adjustment()\n",
      "File \u001B[1;32mD:\\Software\\Software for code\\Python 311\\Lib\\site-packages\\pandas\\io\\formats\\format.py:797\u001B[0m, in \u001B[0;36mDataFrameFormatter.truncate\u001B[1;34m(self)\u001B[0m\n\u001B[0;32m    794\u001B[0m     \u001B[38;5;28mself\u001B[39m\u001B[38;5;241m.\u001B[39m_truncate_horizontally()\n\u001B[0;32m    796\u001B[0m \u001B[38;5;28;01mif\u001B[39;00m \u001B[38;5;28mself\u001B[39m\u001B[38;5;241m.\u001B[39mis_truncated_vertically:\n\u001B[1;32m--> 797\u001B[0m     \u001B[38;5;28;43mself\u001B[39;49m\u001B[38;5;241;43m.\u001B[39;49m\u001B[43m_truncate_vertically\u001B[49m\u001B[43m(\u001B[49m\u001B[43m)\u001B[49m\n",
      "File \u001B[1;32mD:\\Software\\Software for code\\Python 311\\Lib\\site-packages\\pandas\\io\\formats\\format.py:837\u001B[0m, in \u001B[0;36mDataFrameFormatter._truncate_vertically\u001B[1;34m(self)\u001B[0m\n\u001B[0;32m    835\u001B[0m     head \u001B[38;5;241m=\u001B[39m \u001B[38;5;28mself\u001B[39m\u001B[38;5;241m.\u001B[39mtr_frame\u001B[38;5;241m.\u001B[39miloc[:row_num, :]\n\u001B[0;32m    836\u001B[0m     tail \u001B[38;5;241m=\u001B[39m \u001B[38;5;28mself\u001B[39m\u001B[38;5;241m.\u001B[39mtr_frame\u001B[38;5;241m.\u001B[39miloc[\u001B[38;5;241m-\u001B[39mrow_num:, :]\n\u001B[1;32m--> 837\u001B[0m     \u001B[38;5;28mself\u001B[39m\u001B[38;5;241m.\u001B[39mtr_frame \u001B[38;5;241m=\u001B[39m \u001B[43mconcat\u001B[49m\u001B[43m(\u001B[49m\u001B[43m(\u001B[49m\u001B[43mhead\u001B[49m\u001B[43m,\u001B[49m\u001B[43m \u001B[49m\u001B[43mtail\u001B[49m\u001B[43m)\u001B[49m\u001B[43m)\u001B[49m\n\u001B[0;32m    838\u001B[0m \u001B[38;5;28;01melse\u001B[39;00m:\n\u001B[0;32m    839\u001B[0m     row_num \u001B[38;5;241m=\u001B[39m cast(\u001B[38;5;28mint\u001B[39m, \u001B[38;5;28mself\u001B[39m\u001B[38;5;241m.\u001B[39mmax_rows)\n",
      "File \u001B[1;32mD:\\Software\\Software for code\\Python 311\\Lib\\site-packages\\pandas\\core\\reshape\\concat.py:393\u001B[0m, in \u001B[0;36mconcat\u001B[1;34m(objs, axis, join, ignore_index, keys, levels, names, verify_integrity, sort, copy)\u001B[0m\n\u001B[0;32m    378\u001B[0m     copy \u001B[38;5;241m=\u001B[39m \u001B[38;5;28;01mFalse\u001B[39;00m\n\u001B[0;32m    380\u001B[0m op \u001B[38;5;241m=\u001B[39m _Concatenator(\n\u001B[0;32m    381\u001B[0m     objs,\n\u001B[0;32m    382\u001B[0m     axis\u001B[38;5;241m=\u001B[39maxis,\n\u001B[1;32m   (...)\u001B[0m\n\u001B[0;32m    390\u001B[0m     sort\u001B[38;5;241m=\u001B[39msort,\n\u001B[0;32m    391\u001B[0m )\n\u001B[1;32m--> 393\u001B[0m \u001B[38;5;28;01mreturn\u001B[39;00m \u001B[43mop\u001B[49m\u001B[38;5;241;43m.\u001B[39;49m\u001B[43mget_result\u001B[49m\u001B[43m(\u001B[49m\u001B[43m)\u001B[49m\n",
      "File \u001B[1;32mD:\\Software\\Software for code\\Python 311\\Lib\\site-packages\\pandas\\core\\reshape\\concat.py:675\u001B[0m, in \u001B[0;36m_Concatenator.get_result\u001B[1;34m(self)\u001B[0m\n\u001B[0;32m    673\u001B[0m     \u001B[38;5;66;03m# 1-ax to convert BlockManager axis to DataFrame axis\u001B[39;00m\n\u001B[0;32m    674\u001B[0m     obj_labels \u001B[38;5;241m=\u001B[39m obj\u001B[38;5;241m.\u001B[39maxes[\u001B[38;5;241m1\u001B[39m \u001B[38;5;241m-\u001B[39m ax]\n\u001B[1;32m--> 675\u001B[0m     \u001B[38;5;28;01mif\u001B[39;00m \u001B[38;5;129;01mnot\u001B[39;00m \u001B[43mnew_labels\u001B[49m\u001B[38;5;241;43m.\u001B[39;49m\u001B[43mequals\u001B[49m(obj_labels):\n\u001B[0;32m    676\u001B[0m         indexers[ax] \u001B[38;5;241m=\u001B[39m obj_labels\u001B[38;5;241m.\u001B[39mget_indexer(new_labels)\n\u001B[0;32m    678\u001B[0m mgrs_indexers\u001B[38;5;241m.\u001B[39mappend((obj\u001B[38;5;241m.\u001B[39m_mgr, indexers))\n",
      "\u001B[1;31mAttributeError\u001B[0m: 'list' object has no attribute 'equals'"
     ]
    }
   ],
   "source": [
    "import pandas\n",
    "import numpy\n",
    "\n",
    "file_path = 'xls/En_In.xls'\n",
    "ei_df = pandas.read_excel(file_path, skiprows=17, usecols=[2, 3, 4, 5]).head(226)\n",
    "ei_df.columns = ['Country', 'Energy Supply', 'Energy Supply per Capital', '% Renewable']\n",
    "ei_df"
   ]
  },
  {
   "cell_type": "code",
   "execution_count": 100,
   "outputs": [
    {
     "ename": "AttributeError",
     "evalue": "'list' object has no attribute 'is_unique'",
     "output_type": "error",
     "traceback": [
      "\u001B[1;31m---------------------------------------------------------------------------\u001B[0m",
      "\u001B[1;31mAttributeError\u001B[0m                            Traceback (most recent call last)",
      "\u001B[1;32m~\\AppData\\Local\\Temp\\ipykernel_25320\\2946174910.py\u001B[0m in \u001B[0;36m?\u001B[1;34m()\u001B[0m\n\u001B[0;32m      1\u001B[0m \u001B[0mei_df\u001B[0m \u001B[1;33m=\u001B[0m \u001B[0mei_df\u001B[0m\u001B[1;33m.\u001B[0m\u001B[0mreplace\u001B[0m\u001B[1;33m(\u001B[0m\u001B[1;34m'...'\u001B[0m\u001B[1;33m,\u001B[0m \u001B[0mnumpy\u001B[0m\u001B[1;33m.\u001B[0m\u001B[0mNaN\u001B[0m\u001B[1;33m)\u001B[0m\u001B[1;33m\u001B[0m\u001B[1;33m\u001B[0m\u001B[0m\n\u001B[1;32m----> 2\u001B[1;33m \u001B[0mei_df\u001B[0m\u001B[1;33m[\u001B[0m\u001B[1;34m'Energy Supply'\u001B[0m\u001B[1;33m]\u001B[0m \u001B[1;33m=\u001B[0m \u001B[0mei_df\u001B[0m\u001B[1;33m[\u001B[0m\u001B[1;34m'Energy Supply'\u001B[0m\u001B[1;33m]\u001B[0m \u001B[1;33m*\u001B[0m \u001B[1;36m1_000_000\u001B[0m\u001B[1;33m\u001B[0m\u001B[1;33m\u001B[0m\u001B[0m\n\u001B[0m\u001B[0;32m      3\u001B[0m \u001B[0mei_df\u001B[0m\u001B[1;33m\u001B[0m\u001B[1;33m\u001B[0m\u001B[0m\n",
      "\u001B[1;32mD:\\Software\\Software for code\\Python 311\\Lib\\site-packages\\pandas\\core\\frame.py\u001B[0m in \u001B[0;36m?\u001B[1;34m(self, key)\u001B[0m\n\u001B[0;32m   3861\u001B[0m             \u001B[0mis_mi\u001B[0m \u001B[1;33m=\u001B[0m \u001B[0misinstance\u001B[0m\u001B[1;33m(\u001B[0m\u001B[0mself\u001B[0m\u001B[1;33m.\u001B[0m\u001B[0mcolumns\u001B[0m\u001B[1;33m,\u001B[0m \u001B[0mMultiIndex\u001B[0m\u001B[1;33m)\u001B[0m\u001B[1;33m\u001B[0m\u001B[1;33m\u001B[0m\u001B[0m\n\u001B[0;32m   3862\u001B[0m             \u001B[1;31m# GH#45316 Return view if key is not duplicated\u001B[0m\u001B[1;33m\u001B[0m\u001B[1;33m\u001B[0m\u001B[0m\n\u001B[0;32m   3863\u001B[0m             \u001B[1;31m# Only use drop_duplicates with duplicates for performance\u001B[0m\u001B[1;33m\u001B[0m\u001B[1;33m\u001B[0m\u001B[0m\n\u001B[0;32m   3864\u001B[0m             if not is_mi and (\n\u001B[1;32m-> 3865\u001B[1;33m                 \u001B[0mself\u001B[0m\u001B[1;33m.\u001B[0m\u001B[0mcolumns\u001B[0m\u001B[1;33m.\u001B[0m\u001B[0mis_unique\u001B[0m\u001B[1;33m\u001B[0m\u001B[1;33m\u001B[0m\u001B[0m\n\u001B[0m\u001B[0;32m   3866\u001B[0m                 \u001B[1;32mand\u001B[0m \u001B[0mkey\u001B[0m \u001B[1;32min\u001B[0m \u001B[0mself\u001B[0m\u001B[1;33m.\u001B[0m\u001B[0mcolumns\u001B[0m\u001B[1;33m\u001B[0m\u001B[1;33m\u001B[0m\u001B[0m\n\u001B[0;32m   3867\u001B[0m                 \u001B[1;32mor\u001B[0m \u001B[0mkey\u001B[0m \u001B[1;32min\u001B[0m \u001B[0mself\u001B[0m\u001B[1;33m.\u001B[0m\u001B[0mcolumns\u001B[0m\u001B[1;33m.\u001B[0m\u001B[0mdrop_duplicates\u001B[0m\u001B[1;33m(\u001B[0m\u001B[0mkeep\u001B[0m\u001B[1;33m=\u001B[0m\u001B[1;32mFalse\u001B[0m\u001B[1;33m)\u001B[0m\u001B[1;33m\u001B[0m\u001B[1;33m\u001B[0m\u001B[0m\n\u001B[0;32m   3868\u001B[0m             ):\n",
      "\u001B[1;31mAttributeError\u001B[0m: 'list' object has no attribute 'is_unique'"
     ]
    }
   ],
   "source": [
    "ei_df = ei_df.replace('...', numpy.NaN)\n",
    "ei_df['Energy Supply'] = ei_df['Energy Supply'] * 1_000_000\n",
    "ei_df"
   ],
   "metadata": {
    "collapsed": false,
    "ExecuteTime": {
     "end_time": "2023-11-12T21:11:34.954065600Z",
     "start_time": "2023-11-12T21:11:34.915046200Z"
    }
   },
   "id": "7a92e9bacf6575f2"
  },
  {
   "cell_type": "code",
   "execution_count": null,
   "outputs": [],
   "source": [
    "ei_df['Country'] = ei_df['Country'].replace('Republic of Korea', 'South Korea')\n",
    "ei_df['Country'] = ei_df['Country'].replace('United States of America20', 'United States')\n",
    "ei_df['Country'] = ei_df['Country'].replace('United Kingdom of Great Britain and Northern Ireland19', 'United Kingdom')\n",
    "ei_df['Country'] = ei_df['Country'].replace('China, Hong Kong Special Administrative Region3', 'Hong Kong')\n",
    "ei_df"
   ],
   "metadata": {
    "collapsed": false,
    "ExecuteTime": {
     "start_time": "2023-11-12T21:11:34.927059400Z"
    }
   },
   "id": "1d0548181a341a4a"
  },
  {
   "cell_type": "code",
   "execution_count": null,
   "outputs": [],
   "source": [
    "ei_df['Country'] = ei_df['Country'].str.replace(r'\\s*\\([^)]*\\)\\s*|\\s*\\d+\\s*', '', regex=True)\n",
    "ei_df"
   ],
   "metadata": {
    "collapsed": false,
    "ExecuteTime": {
     "start_time": "2023-11-12T21:11:34.929059700Z"
    }
   },
   "id": "3e3d723aa0bdc6bf"
  },
  {
   "cell_type": "code",
   "execution_count": null,
   "outputs": [],
   "source": [
    "file_path = 'csv/gpd.csv'\n",
    "gdp_dp = pandas.read_csv(file_path, skiprows=4)\n",
    "pandas.options.display.float_format = '{:.6f}'.format\n",
    "gdp_dp"
   ],
   "metadata": {
    "collapsed": false,
    "ExecuteTime": {
     "start_time": "2023-11-12T21:11:34.930060800Z"
    }
   },
   "id": "f13935857f56ee1f"
  },
  {
   "cell_type": "code",
   "execution_count": null,
   "outputs": [],
   "source": [
    "gdp_dp['Country Name'] = gdp_dp['Country Name'].replace('Korea, Rep.', 'South Korea')\n",
    "gdp_dp['Country Name'] = gdp_dp['Country Name'].replace('Iran, Islamic Rep.', 'Iran')\n",
    "gdp_dp['Country Name'] = gdp_dp['Country Name'].replace('Hong Kong SAR, China', 'Hong Kong')\n",
    "gdp_dp"
   ],
   "metadata": {
    "collapsed": false,
    "ExecuteTime": {
     "start_time": "2023-11-12T21:11:34.932060600Z"
    }
   },
   "id": "cf8c4f1f1adf5987"
  },
  {
   "cell_type": "code",
   "execution_count": null,
   "outputs": [],
   "source": [
    "file_path = 'xlsx/scimagojr.xlsx'\n",
    "scimagojr_df = pandas.read_excel(file_path)\n",
    "scimagojr_df"
   ],
   "metadata": {
    "collapsed": false,
    "ExecuteTime": {
     "start_time": "2023-11-12T21:11:34.934060900Z"
    }
   },
   "id": "27c2641437b9c39f"
  },
  {
   "cell_type": "code",
   "execution_count": null,
   "outputs": [],
   "source": [
    "merged_df = pandas.merge(ei_df, scimagojr_df, on='Country', how='inner')\n",
    "gdp_dp = gdp_dp.rename(columns={'Country Name': 'Country'})\n",
    "merged_df = pandas.merge(merged_df, gdp_dp, on='Country', how='inner')\n",
    "merged_df = merged_df.sort_values(by='Rank', ascending=True)\n",
    "merged_df = merged_df[['Country', 'Rank', 'Documents', 'Citable documents', 'Citations', 'Self-citations', 'Citations per document', 'H index', 'Energy Supply', 'Energy Supply per Capital', '% Renewable', '2006', '2007', '2008', '2009', '2010', '2011', '2012', '2013', '2014', '2015']]\n",
    "merged_df.set_index('Country', inplace=True)\n",
    "merged_df = merged_df.head(15)\n",
    "merged_df"
   ],
   "metadata": {
    "collapsed": false,
    "ExecuteTime": {
     "start_time": "2023-11-12T21:11:34.935062200Z"
    }
   },
   "id": "d44363dc13a2f097"
  },
  {
   "cell_type": "code",
   "execution_count": null,
   "outputs": [],
   "source": [
    "# 8\n",
    "def task_eight(df):\n",
    "    return pandas.Series((df['2006'] + df['2007'] + df['2008'] + df['2009'] + df['2010'] + df['2011'] + df['2012'] + df['2013'] + df['2014'] + df['2015']) / 10, name='GDP per 10 years')\n",
    "task_eight(merged_df)"
   ],
   "metadata": {
    "collapsed": false,
    "ExecuteTime": {
     "start_time": "2023-11-12T21:11:34.937062400Z"
    }
   },
   "id": "eb1cdd08aabba5ed"
  },
  {
   "cell_type": "code",
   "execution_count": null,
   "outputs": [],
   "source": [
    "def task_nine(df):\n",
    "    df['GDP per 10 years'] = task_eight(df)\n",
    "    df = df.sort_values(by='GDP per 10 years', ascending=False)\n",
    "    df = df.reset_index()\n",
    "    df = df[df.index == 4]\n",
    "    df['GDP_difference'] = pandas.Series(df['2015'] - df['2006'], name='GDP_difference')\n",
    "    return df['Country'].item(), df['GDP_difference'].item()\n",
    "task_nine(merged_df)"
   ],
   "metadata": {
    "collapsed": false,
    "ExecuteTime": {
     "start_time": "2023-11-12T21:11:34.938062100Z"
    }
   },
   "id": "dd8307f250fa916"
  },
  {
   "cell_type": "code",
   "execution_count": null,
   "outputs": [],
   "source": [
    "def task_ten(df):\n",
    "    return df['% Renewable'].idxmax(), df['% Renewable'].max()\n",
    "task_ten(merged_df)"
   ],
   "metadata": {
    "collapsed": false,
    "ExecuteTime": {
     "start_time": "2023-11-12T21:11:34.939062100Z"
    }
   },
   "id": "954447374dfa0f41"
  },
  {
   "cell_type": "code",
   "execution_count": null,
   "outputs": [],
   "source": [
    "def task_eleven(df):\n",
    "    df['Population'] = pandas.Series(df['Energy Supply'] / df['Energy Supply per Capital'], name='population')\n",
    "    df = df.sort_values(by='Population', ascending=False)\n",
    "    df = df.reset_index()\n",
    "    df = df[df.index == 5]\n",
    "    return df['Country'].item(), df['Population'].item()\n",
    "task_eleven(merged_df)"
   ],
   "metadata": {
    "collapsed": false,
    "ExecuteTime": {
     "start_time": "2023-11-12T21:11:34.940062200Z"
    }
   },
   "id": "7e6c68d3955c3a23"
  },
  {
   "cell_type": "code",
   "execution_count": null,
   "outputs": [],
   "source": [
    "def task_twelve():"
   ],
   "metadata": {
    "collapsed": false,
    "ExecuteTime": {
     "start_time": "2023-11-12T21:11:34.941062500Z"
    }
   },
   "id": "baa96edc7f561a53"
  },
  {
   "cell_type": "code",
   "execution_count": null,
   "outputs": [],
   "source": [
    "#13\n",
    "def task_thirteen(df):\n",
    "    median = df['% Renewable'].median()\n",
    "    df['Renewable bigger or equals median'] = df['% Renewable'].apply(lambda x: 1 if x >= median else 0)\n",
    "    return df['Renewable bigger or equals median']\n",
    "task_thirteen(merged_df)"
   ],
   "metadata": {
    "collapsed": false,
    "ExecuteTime": {
     "start_time": "2023-11-12T21:11:34.942062700Z"
    }
   },
   "id": "279f603645d957a3"
  },
  {
   "cell_type": "code",
   "execution_count": null,
   "outputs": [],
   "source": [
    "ContinentDict = {\n",
    "    'China':'Asia',\n",
    "    'United States':'North America',\n",
    "    'Japan':'Asia',\n",
    "    'United Kingdom':'Europe',\n",
    "    'Russian Federation':'Europe',\n",
    "    'Canada':'North America',\n",
    "    'Germany':'Europe',\n",
    "    'India':'Asia',\n",
    "    'France':'Europe',\n",
    "    'South Korea':'Asia',\n",
    "    'Italy':'Europe',\n",
    "    'Spain':'Europe',\n",
    "    'Iran':'Asia',\n",
    "    'Australia':'Australia',\n",
    "    'Brazil':'South America'\n",
    "}"
   ],
   "metadata": {
    "collapsed": false,
    "ExecuteTime": {
     "start_time": "2023-11-12T21:11:34.943062900Z"
    }
   },
   "id": "958d1c0d4363bd8d"
  },
  {
   "cell_type": "code",
   "execution_count": null,
   "outputs": [],
   "source": [],
   "metadata": {
    "collapsed": false
   },
   "id": "fdff7e42f3804903"
  }
 ],
 "metadata": {
  "kernelspec": {
   "display_name": "Python 3",
   "language": "python",
   "name": "python3"
  },
  "language_info": {
   "codemirror_mode": {
    "name": "ipython",
    "version": 2
   },
   "file_extension": ".py",
   "mimetype": "text/x-python",
   "name": "python",
   "nbconvert_exporter": "python",
   "pygments_lexer": "ipython2",
   "version": "2.7.6"
  }
 },
 "nbformat": 4,
 "nbformat_minor": 5
}
