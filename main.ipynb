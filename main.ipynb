{
 "cells": [
  {
   "cell_type": "code",
   "execution_count": 16,
   "id": "initial_id",
   "metadata": {
    "collapsed": true,
    "ExecuteTime": {
     "end_time": "2023-11-12T21:15:41.598751600Z",
     "start_time": "2023-11-12T21:15:41.546157300Z"
    }
   },
   "outputs": [
    {
     "data": {
      "text/plain": "                                Country Energy Supply  \\\n0                           Afghanistan           321   \n1                               Albania           102   \n2                               Algeria          1959   \n3                        American Samoa           ...   \n4                               Andorra             9   \n..                                  ...           ...   \n221  Venezuela (Bolivarian Republic of)          2871   \n222                            Viet Nam          2554   \n223           Wallis and Futuna Islands             0   \n224                               Yemen           344   \n225                              Zambia           400   \n\n    Energy Supply per Capital  % Renewable  \n0                          10    78.669280  \n1                          35   100.000000  \n2                          51     0.551010  \n3                         ...     0.641026  \n4                         121    88.695650  \n..                        ...          ...  \n221                        95    67.834520  \n222                        28    45.321520  \n223                        26     0.000000  \n224                        13     0.000000  \n225                        26    99.714670  \n\n[226 rows x 4 columns]",
      "text/html": "<div>\n<style scoped>\n    .dataframe tbody tr th:only-of-type {\n        vertical-align: middle;\n    }\n\n    .dataframe tbody tr th {\n        vertical-align: top;\n    }\n\n    .dataframe thead th {\n        text-align: right;\n    }\n</style>\n<table border=\"1\" class=\"dataframe\">\n  <thead>\n    <tr style=\"text-align: right;\">\n      <th></th>\n      <th>Country</th>\n      <th>Energy Supply</th>\n      <th>Energy Supply per Capital</th>\n      <th>% Renewable</th>\n    </tr>\n  </thead>\n  <tbody>\n    <tr>\n      <th>0</th>\n      <td>Afghanistan</td>\n      <td>321</td>\n      <td>10</td>\n      <td>78.669280</td>\n    </tr>\n    <tr>\n      <th>1</th>\n      <td>Albania</td>\n      <td>102</td>\n      <td>35</td>\n      <td>100.000000</td>\n    </tr>\n    <tr>\n      <th>2</th>\n      <td>Algeria</td>\n      <td>1959</td>\n      <td>51</td>\n      <td>0.551010</td>\n    </tr>\n    <tr>\n      <th>3</th>\n      <td>American Samoa</td>\n      <td>...</td>\n      <td>...</td>\n      <td>0.641026</td>\n    </tr>\n    <tr>\n      <th>4</th>\n      <td>Andorra</td>\n      <td>9</td>\n      <td>121</td>\n      <td>88.695650</td>\n    </tr>\n    <tr>\n      <th>...</th>\n      <td>...</td>\n      <td>...</td>\n      <td>...</td>\n      <td>...</td>\n    </tr>\n    <tr>\n      <th>221</th>\n      <td>Venezuela (Bolivarian Republic of)</td>\n      <td>2871</td>\n      <td>95</td>\n      <td>67.834520</td>\n    </tr>\n    <tr>\n      <th>222</th>\n      <td>Viet Nam</td>\n      <td>2554</td>\n      <td>28</td>\n      <td>45.321520</td>\n    </tr>\n    <tr>\n      <th>223</th>\n      <td>Wallis and Futuna Islands</td>\n      <td>0</td>\n      <td>26</td>\n      <td>0.000000</td>\n    </tr>\n    <tr>\n      <th>224</th>\n      <td>Yemen</td>\n      <td>344</td>\n      <td>13</td>\n      <td>0.000000</td>\n    </tr>\n    <tr>\n      <th>225</th>\n      <td>Zambia</td>\n      <td>400</td>\n      <td>26</td>\n      <td>99.714670</td>\n    </tr>\n  </tbody>\n</table>\n<p>226 rows × 4 columns</p>\n</div>"
     },
     "execution_count": 16,
     "metadata": {},
     "output_type": "execute_result"
    }
   ],
   "source": [
    "import pandas\n",
    "import numpy\n",
    "\n",
    "file_path = 'xls/En_In.xls'\n",
    "ei_df = pandas.read_excel(file_path, skiprows=17, usecols=[2, 3, 4, 5]).head(226)\n",
    "ei_df.columns = ['Country', 'Energy Supply', 'Energy Supply per Capital', '% Renewable']\n",
    "ei_df"
   ]
  },
  {
   "cell_type": "code",
   "execution_count": 17,
   "outputs": [
    {
     "data": {
      "text/plain": "                                Country     Energy Supply  \\\n0                           Afghanistan  321000000.000000   \n1                               Albania  102000000.000000   \n2                               Algeria 1959000000.000000   \n3                        American Samoa               NaN   \n4                               Andorra    9000000.000000   \n..                                  ...               ...   \n221  Venezuela (Bolivarian Republic of) 2871000000.000000   \n222                            Viet Nam 2554000000.000000   \n223           Wallis and Futuna Islands          0.000000   \n224                               Yemen  344000000.000000   \n225                              Zambia  400000000.000000   \n\n     Energy Supply per Capital  % Renewable  \n0                    10.000000    78.669280  \n1                    35.000000   100.000000  \n2                    51.000000     0.551010  \n3                          NaN     0.641026  \n4                   121.000000    88.695650  \n..                         ...          ...  \n221                  95.000000    67.834520  \n222                  28.000000    45.321520  \n223                  26.000000     0.000000  \n224                  13.000000     0.000000  \n225                  26.000000    99.714670  \n\n[226 rows x 4 columns]",
      "text/html": "<div>\n<style scoped>\n    .dataframe tbody tr th:only-of-type {\n        vertical-align: middle;\n    }\n\n    .dataframe tbody tr th {\n        vertical-align: top;\n    }\n\n    .dataframe thead th {\n        text-align: right;\n    }\n</style>\n<table border=\"1\" class=\"dataframe\">\n  <thead>\n    <tr style=\"text-align: right;\">\n      <th></th>\n      <th>Country</th>\n      <th>Energy Supply</th>\n      <th>Energy Supply per Capital</th>\n      <th>% Renewable</th>\n    </tr>\n  </thead>\n  <tbody>\n    <tr>\n      <th>0</th>\n      <td>Afghanistan</td>\n      <td>321000000.000000</td>\n      <td>10.000000</td>\n      <td>78.669280</td>\n    </tr>\n    <tr>\n      <th>1</th>\n      <td>Albania</td>\n      <td>102000000.000000</td>\n      <td>35.000000</td>\n      <td>100.000000</td>\n    </tr>\n    <tr>\n      <th>2</th>\n      <td>Algeria</td>\n      <td>1959000000.000000</td>\n      <td>51.000000</td>\n      <td>0.551010</td>\n    </tr>\n    <tr>\n      <th>3</th>\n      <td>American Samoa</td>\n      <td>NaN</td>\n      <td>NaN</td>\n      <td>0.641026</td>\n    </tr>\n    <tr>\n      <th>4</th>\n      <td>Andorra</td>\n      <td>9000000.000000</td>\n      <td>121.000000</td>\n      <td>88.695650</td>\n    </tr>\n    <tr>\n      <th>...</th>\n      <td>...</td>\n      <td>...</td>\n      <td>...</td>\n      <td>...</td>\n    </tr>\n    <tr>\n      <th>221</th>\n      <td>Venezuela (Bolivarian Republic of)</td>\n      <td>2871000000.000000</td>\n      <td>95.000000</td>\n      <td>67.834520</td>\n    </tr>\n    <tr>\n      <th>222</th>\n      <td>Viet Nam</td>\n      <td>2554000000.000000</td>\n      <td>28.000000</td>\n      <td>45.321520</td>\n    </tr>\n    <tr>\n      <th>223</th>\n      <td>Wallis and Futuna Islands</td>\n      <td>0.000000</td>\n      <td>26.000000</td>\n      <td>0.000000</td>\n    </tr>\n    <tr>\n      <th>224</th>\n      <td>Yemen</td>\n      <td>344000000.000000</td>\n      <td>13.000000</td>\n      <td>0.000000</td>\n    </tr>\n    <tr>\n      <th>225</th>\n      <td>Zambia</td>\n      <td>400000000.000000</td>\n      <td>26.000000</td>\n      <td>99.714670</td>\n    </tr>\n  </tbody>\n</table>\n<p>226 rows × 4 columns</p>\n</div>"
     },
     "execution_count": 17,
     "metadata": {},
     "output_type": "execute_result"
    }
   ],
   "source": [
    "ei_df = ei_df.replace('...', numpy.NaN)\n",
    "ei_df['Energy Supply'] = ei_df['Energy Supply'] * 1_000_000\n",
    "ei_df"
   ],
   "metadata": {
    "collapsed": false,
    "ExecuteTime": {
     "end_time": "2023-11-12T21:15:41.630405400Z",
     "start_time": "2023-11-12T21:15:41.561152700Z"
    }
   },
   "id": "7a92e9bacf6575f2"
  },
  {
   "cell_type": "code",
   "execution_count": 18,
   "outputs": [
    {
     "data": {
      "text/plain": "                                Country     Energy Supply  \\\n0                           Afghanistan  321000000.000000   \n1                               Albania  102000000.000000   \n2                               Algeria 1959000000.000000   \n3                        American Samoa               NaN   \n4                               Andorra    9000000.000000   \n..                                  ...               ...   \n221  Venezuela (Bolivarian Republic of) 2871000000.000000   \n222                            Viet Nam 2554000000.000000   \n223           Wallis and Futuna Islands          0.000000   \n224                               Yemen  344000000.000000   \n225                              Zambia  400000000.000000   \n\n     Energy Supply per Capital  % Renewable  \n0                    10.000000    78.669280  \n1                    35.000000   100.000000  \n2                    51.000000     0.551010  \n3                          NaN     0.641026  \n4                   121.000000    88.695650  \n..                         ...          ...  \n221                  95.000000    67.834520  \n222                  28.000000    45.321520  \n223                  26.000000     0.000000  \n224                  13.000000     0.000000  \n225                  26.000000    99.714670  \n\n[226 rows x 4 columns]",
      "text/html": "<div>\n<style scoped>\n    .dataframe tbody tr th:only-of-type {\n        vertical-align: middle;\n    }\n\n    .dataframe tbody tr th {\n        vertical-align: top;\n    }\n\n    .dataframe thead th {\n        text-align: right;\n    }\n</style>\n<table border=\"1\" class=\"dataframe\">\n  <thead>\n    <tr style=\"text-align: right;\">\n      <th></th>\n      <th>Country</th>\n      <th>Energy Supply</th>\n      <th>Energy Supply per Capital</th>\n      <th>% Renewable</th>\n    </tr>\n  </thead>\n  <tbody>\n    <tr>\n      <th>0</th>\n      <td>Afghanistan</td>\n      <td>321000000.000000</td>\n      <td>10.000000</td>\n      <td>78.669280</td>\n    </tr>\n    <tr>\n      <th>1</th>\n      <td>Albania</td>\n      <td>102000000.000000</td>\n      <td>35.000000</td>\n      <td>100.000000</td>\n    </tr>\n    <tr>\n      <th>2</th>\n      <td>Algeria</td>\n      <td>1959000000.000000</td>\n      <td>51.000000</td>\n      <td>0.551010</td>\n    </tr>\n    <tr>\n      <th>3</th>\n      <td>American Samoa</td>\n      <td>NaN</td>\n      <td>NaN</td>\n      <td>0.641026</td>\n    </tr>\n    <tr>\n      <th>4</th>\n      <td>Andorra</td>\n      <td>9000000.000000</td>\n      <td>121.000000</td>\n      <td>88.695650</td>\n    </tr>\n    <tr>\n      <th>...</th>\n      <td>...</td>\n      <td>...</td>\n      <td>...</td>\n      <td>...</td>\n    </tr>\n    <tr>\n      <th>221</th>\n      <td>Venezuela (Bolivarian Republic of)</td>\n      <td>2871000000.000000</td>\n      <td>95.000000</td>\n      <td>67.834520</td>\n    </tr>\n    <tr>\n      <th>222</th>\n      <td>Viet Nam</td>\n      <td>2554000000.000000</td>\n      <td>28.000000</td>\n      <td>45.321520</td>\n    </tr>\n    <tr>\n      <th>223</th>\n      <td>Wallis and Futuna Islands</td>\n      <td>0.000000</td>\n      <td>26.000000</td>\n      <td>0.000000</td>\n    </tr>\n    <tr>\n      <th>224</th>\n      <td>Yemen</td>\n      <td>344000000.000000</td>\n      <td>13.000000</td>\n      <td>0.000000</td>\n    </tr>\n    <tr>\n      <th>225</th>\n      <td>Zambia</td>\n      <td>400000000.000000</td>\n      <td>26.000000</td>\n      <td>99.714670</td>\n    </tr>\n  </tbody>\n</table>\n<p>226 rows × 4 columns</p>\n</div>"
     },
     "execution_count": 18,
     "metadata": {},
     "output_type": "execute_result"
    }
   ],
   "source": [
    "ei_df['Country'] = ei_df['Country'].replace('Republic of Korea', 'South Korea')\n",
    "ei_df['Country'] = ei_df['Country'].replace('United States of America20', 'United States')\n",
    "ei_df['Country'] = ei_df['Country'].replace('United Kingdom of Great Britain and Northern Ireland19', 'United Kingdom')\n",
    "ei_df['Country'] = ei_df['Country'].replace('China, Hong Kong Special Administrative Region3', 'Hong Kong')\n",
    "ei_df"
   ],
   "metadata": {
    "collapsed": false,
    "ExecuteTime": {
     "end_time": "2023-11-12T21:15:41.639408Z",
     "start_time": "2023-11-12T21:15:41.569728300Z"
    }
   },
   "id": "1d0548181a341a4a"
  },
  {
   "cell_type": "code",
   "execution_count": 19,
   "outputs": [
    {
     "data": {
      "text/plain": "                       Country     Energy Supply  Energy Supply per Capital  \\\n0                  Afghanistan  321000000.000000                  10.000000   \n1                      Albania  102000000.000000                  35.000000   \n2                      Algeria 1959000000.000000                  51.000000   \n3               American Samoa               NaN                        NaN   \n4                      Andorra    9000000.000000                 121.000000   \n..                         ...               ...                        ...   \n221                  Venezuela 2871000000.000000                  95.000000   \n222                   Viet Nam 2554000000.000000                  28.000000   \n223  Wallis and Futuna Islands          0.000000                  26.000000   \n224                      Yemen  344000000.000000                  13.000000   \n225                     Zambia  400000000.000000                  26.000000   \n\n     % Renewable  \n0      78.669280  \n1     100.000000  \n2       0.551010  \n3       0.641026  \n4      88.695650  \n..           ...  \n221    67.834520  \n222    45.321520  \n223     0.000000  \n224     0.000000  \n225    99.714670  \n\n[226 rows x 4 columns]",
      "text/html": "<div>\n<style scoped>\n    .dataframe tbody tr th:only-of-type {\n        vertical-align: middle;\n    }\n\n    .dataframe tbody tr th {\n        vertical-align: top;\n    }\n\n    .dataframe thead th {\n        text-align: right;\n    }\n</style>\n<table border=\"1\" class=\"dataframe\">\n  <thead>\n    <tr style=\"text-align: right;\">\n      <th></th>\n      <th>Country</th>\n      <th>Energy Supply</th>\n      <th>Energy Supply per Capital</th>\n      <th>% Renewable</th>\n    </tr>\n  </thead>\n  <tbody>\n    <tr>\n      <th>0</th>\n      <td>Afghanistan</td>\n      <td>321000000.000000</td>\n      <td>10.000000</td>\n      <td>78.669280</td>\n    </tr>\n    <tr>\n      <th>1</th>\n      <td>Albania</td>\n      <td>102000000.000000</td>\n      <td>35.000000</td>\n      <td>100.000000</td>\n    </tr>\n    <tr>\n      <th>2</th>\n      <td>Algeria</td>\n      <td>1959000000.000000</td>\n      <td>51.000000</td>\n      <td>0.551010</td>\n    </tr>\n    <tr>\n      <th>3</th>\n      <td>American Samoa</td>\n      <td>NaN</td>\n      <td>NaN</td>\n      <td>0.641026</td>\n    </tr>\n    <tr>\n      <th>4</th>\n      <td>Andorra</td>\n      <td>9000000.000000</td>\n      <td>121.000000</td>\n      <td>88.695650</td>\n    </tr>\n    <tr>\n      <th>...</th>\n      <td>...</td>\n      <td>...</td>\n      <td>...</td>\n      <td>...</td>\n    </tr>\n    <tr>\n      <th>221</th>\n      <td>Venezuela</td>\n      <td>2871000000.000000</td>\n      <td>95.000000</td>\n      <td>67.834520</td>\n    </tr>\n    <tr>\n      <th>222</th>\n      <td>Viet Nam</td>\n      <td>2554000000.000000</td>\n      <td>28.000000</td>\n      <td>45.321520</td>\n    </tr>\n    <tr>\n      <th>223</th>\n      <td>Wallis and Futuna Islands</td>\n      <td>0.000000</td>\n      <td>26.000000</td>\n      <td>0.000000</td>\n    </tr>\n    <tr>\n      <th>224</th>\n      <td>Yemen</td>\n      <td>344000000.000000</td>\n      <td>13.000000</td>\n      <td>0.000000</td>\n    </tr>\n    <tr>\n      <th>225</th>\n      <td>Zambia</td>\n      <td>400000000.000000</td>\n      <td>26.000000</td>\n      <td>99.714670</td>\n    </tr>\n  </tbody>\n</table>\n<p>226 rows × 4 columns</p>\n</div>"
     },
     "execution_count": 19,
     "metadata": {},
     "output_type": "execute_result"
    }
   ],
   "source": [
    "ei_df['Country'] = ei_df['Country'].str.replace(r'\\s*\\([^)]*\\)\\s*|\\s*\\d+\\s*', '', regex=True)\n",
    "ei_df"
   ],
   "metadata": {
    "collapsed": false,
    "ExecuteTime": {
     "end_time": "2023-11-12T21:15:41.639408Z",
     "start_time": "2023-11-12T21:15:41.578026600Z"
    }
   },
   "id": "3e3d723aa0bdc6bf"
  },
  {
   "cell_type": "code",
   "execution_count": 20,
   "outputs": [
    {
     "data": {
      "text/plain": "         Country Name Country Code                            Indicator Name  \\\n0               Aruba          ABW  GDP at market prices (constant 2010 US$)   \n1             Andorra          AND  GDP at market prices (constant 2010 US$)   \n2         Afghanistan          AFG  GDP at market prices (constant 2010 US$)   \n3              Angola          AGO  GDP at market prices (constant 2010 US$)   \n4             Albania          ALB  GDP at market prices (constant 2010 US$)   \n..                ...          ...                                       ...   \n259       Yemen, Rep.          YEM  GDP at market prices (constant 2010 US$)   \n260      South Africa          ZAF  GDP at market prices (constant 2010 US$)   \n261  Congo, Dem. Rep.          COD  GDP at market prices (constant 2010 US$)   \n262            Zambia          ZMB  GDP at market prices (constant 2010 US$)   \n263          Zimbabwe          ZWE  GDP at market prices (constant 2010 US$)   \n\n     Indicator Code               1960               1961               1962  \\\n0    NY.GDP.MKTP.KD                NaN                NaN                NaN   \n1    NY.GDP.MKTP.KD                NaN                NaN                NaN   \n2    NY.GDP.MKTP.KD                NaN                NaN                NaN   \n3    NY.GDP.MKTP.KD                NaN                NaN                NaN   \n4    NY.GDP.MKTP.KD                NaN                NaN                NaN   \n..              ...                ...                ...                ...   \n259  NY.GDP.MKTP.KD                NaN                NaN                NaN   \n260  NY.GDP.MKTP.KD 77070810927.968903 80034494636.637405 84978442119.737900   \n261  NY.GDP.MKTP.KD 15080239239.396799 13443825765.218201 16294010600.120600   \n262  NY.GDP.MKTP.KD  4592974755.581500  4655502678.701720  4539541577.202900   \n263  NY.GDP.MKTP.KD  3338344012.901850  3549199070.949700  3600111298.353320   \n\n                  1963               1964                1965  ...  \\\n0                  NaN                NaN                 NaN  ...   \n1                  NaN                NaN                 NaN  ...   \n2                  NaN                NaN                 NaN  ...   \n3                  NaN                NaN                 NaN  ...   \n4                  NaN                NaN                 NaN  ...   \n..                 ...                ...                 ...  ...   \n259                NaN                NaN                 NaN  ...   \n260 91244381889.661606 98489040998.276199 107250656239.048996  ...   \n261 17143578705.300699 16725237057.936800  16892046007.948799  ...   \n262  4688093222.988890  5260699172.416670   6136471743.344940  ...   \n263  3824914650.445780  3782604520.958330   3968351985.975770  ...   \n\n                   2006                2007                2008  \\\n0                   NaN                 NaN                 NaN   \n1     4018195653.510150   4021331428.401050   3675727910.506810   \n2    10305228125.139200  11721187594.205200  12144482858.180000   \n3    55811028114.647903  68420444001.499496  77874196512.184494   \n4     9771760095.125540  10348293941.585300  11127520474.298100   \n..                  ...                 ...                 ...   \n259  26725653162.687698  27617869836.712101  28726558529.023499   \n260 340285160027.947021 358526057738.422974 369966781589.994995   \n261  16508944144.718300  17542316525.547298  18634483660.300400   \n262  14405693544.016199  15608919909.945601  16822341081.069799   \n263  10062755569.021700   9695130198.507780   7982102821.163840   \n\n                   2009                2010                2011  \\\n0                   NaN   2467703910.614530                 NaN   \n1     3535389132.602410   3346317328.524610   3185604581.520290   \n2    14697331940.646400  15936800636.248699  16911126453.227600   \n3    79753199398.139603  82470913120.731400  85702615836.440399   \n4    11500292411.174400  11926953258.916000  12231090567.667200   \n..                  ...                 ...                 ...   \n259  29914355173.579201  30906753495.150101  26243421035.824600   \n260 364276362720.085999 375349442837.239990 387407362601.250000   \n261  19166509369.446999  20523285374.187000  21932132984.366501   \n262  18373419545.141899  20265552104.396400  21403581063.296200   \n263   8459783044.330810   9422161300.000000  10543908035.032900   \n\n                   2012                2013                2014  \\\n0                   NaN                 NaN                 NaN   \n1     3129537611.886200   3127549907.583770                 NaN   \n2    19352203805.629398  19731337260.637798  19990317160.675598   \n3    90120963241.218597  96261432368.264496 100886286610.957993   \n4    12404772053.501400  12542465022.372999  12793314322.820499   \n..                  ...                 ...                 ...   \n259  26891601653.747101  28009137429.746201                 NaN   \n260 396007124238.281982 404768205399.940002 411036853168.560974   \n261  23502004276.806900  25500497989.971901  27787759925.441799   \n262  23024380970.417500  24205950559.400501  25422273004.668701   \n263  11657893456.879000  12180644491.500900  12649391052.821800   \n\n                   2015  \n0                   NaN  \n1                   NaN  \n2    20294152243.007198  \n3   103910558934.020004  \n4    13120823169.484699  \n..                  ...  \n259                 NaN  \n260 416311671520.861023  \n261  29709613590.183601  \n262  26241270767.755501  \n263  12785173627.385000  \n\n[264 rows x 60 columns]",
      "text/html": "<div>\n<style scoped>\n    .dataframe tbody tr th:only-of-type {\n        vertical-align: middle;\n    }\n\n    .dataframe tbody tr th {\n        vertical-align: top;\n    }\n\n    .dataframe thead th {\n        text-align: right;\n    }\n</style>\n<table border=\"1\" class=\"dataframe\">\n  <thead>\n    <tr style=\"text-align: right;\">\n      <th></th>\n      <th>Country Name</th>\n      <th>Country Code</th>\n      <th>Indicator Name</th>\n      <th>Indicator Code</th>\n      <th>1960</th>\n      <th>1961</th>\n      <th>1962</th>\n      <th>1963</th>\n      <th>1964</th>\n      <th>1965</th>\n      <th>...</th>\n      <th>2006</th>\n      <th>2007</th>\n      <th>2008</th>\n      <th>2009</th>\n      <th>2010</th>\n      <th>2011</th>\n      <th>2012</th>\n      <th>2013</th>\n      <th>2014</th>\n      <th>2015</th>\n    </tr>\n  </thead>\n  <tbody>\n    <tr>\n      <th>0</th>\n      <td>Aruba</td>\n      <td>ABW</td>\n      <td>GDP at market prices (constant 2010 US$)</td>\n      <td>NY.GDP.MKTP.KD</td>\n      <td>NaN</td>\n      <td>NaN</td>\n      <td>NaN</td>\n      <td>NaN</td>\n      <td>NaN</td>\n      <td>NaN</td>\n      <td>...</td>\n      <td>NaN</td>\n      <td>NaN</td>\n      <td>NaN</td>\n      <td>NaN</td>\n      <td>2467703910.614530</td>\n      <td>NaN</td>\n      <td>NaN</td>\n      <td>NaN</td>\n      <td>NaN</td>\n      <td>NaN</td>\n    </tr>\n    <tr>\n      <th>1</th>\n      <td>Andorra</td>\n      <td>AND</td>\n      <td>GDP at market prices (constant 2010 US$)</td>\n      <td>NY.GDP.MKTP.KD</td>\n      <td>NaN</td>\n      <td>NaN</td>\n      <td>NaN</td>\n      <td>NaN</td>\n      <td>NaN</td>\n      <td>NaN</td>\n      <td>...</td>\n      <td>4018195653.510150</td>\n      <td>4021331428.401050</td>\n      <td>3675727910.506810</td>\n      <td>3535389132.602410</td>\n      <td>3346317328.524610</td>\n      <td>3185604581.520290</td>\n      <td>3129537611.886200</td>\n      <td>3127549907.583770</td>\n      <td>NaN</td>\n      <td>NaN</td>\n    </tr>\n    <tr>\n      <th>2</th>\n      <td>Afghanistan</td>\n      <td>AFG</td>\n      <td>GDP at market prices (constant 2010 US$)</td>\n      <td>NY.GDP.MKTP.KD</td>\n      <td>NaN</td>\n      <td>NaN</td>\n      <td>NaN</td>\n      <td>NaN</td>\n      <td>NaN</td>\n      <td>NaN</td>\n      <td>...</td>\n      <td>10305228125.139200</td>\n      <td>11721187594.205200</td>\n      <td>12144482858.180000</td>\n      <td>14697331940.646400</td>\n      <td>15936800636.248699</td>\n      <td>16911126453.227600</td>\n      <td>19352203805.629398</td>\n      <td>19731337260.637798</td>\n      <td>19990317160.675598</td>\n      <td>20294152243.007198</td>\n    </tr>\n    <tr>\n      <th>3</th>\n      <td>Angola</td>\n      <td>AGO</td>\n      <td>GDP at market prices (constant 2010 US$)</td>\n      <td>NY.GDP.MKTP.KD</td>\n      <td>NaN</td>\n      <td>NaN</td>\n      <td>NaN</td>\n      <td>NaN</td>\n      <td>NaN</td>\n      <td>NaN</td>\n      <td>...</td>\n      <td>55811028114.647903</td>\n      <td>68420444001.499496</td>\n      <td>77874196512.184494</td>\n      <td>79753199398.139603</td>\n      <td>82470913120.731400</td>\n      <td>85702615836.440399</td>\n      <td>90120963241.218597</td>\n      <td>96261432368.264496</td>\n      <td>100886286610.957993</td>\n      <td>103910558934.020004</td>\n    </tr>\n    <tr>\n      <th>4</th>\n      <td>Albania</td>\n      <td>ALB</td>\n      <td>GDP at market prices (constant 2010 US$)</td>\n      <td>NY.GDP.MKTP.KD</td>\n      <td>NaN</td>\n      <td>NaN</td>\n      <td>NaN</td>\n      <td>NaN</td>\n      <td>NaN</td>\n      <td>NaN</td>\n      <td>...</td>\n      <td>9771760095.125540</td>\n      <td>10348293941.585300</td>\n      <td>11127520474.298100</td>\n      <td>11500292411.174400</td>\n      <td>11926953258.916000</td>\n      <td>12231090567.667200</td>\n      <td>12404772053.501400</td>\n      <td>12542465022.372999</td>\n      <td>12793314322.820499</td>\n      <td>13120823169.484699</td>\n    </tr>\n    <tr>\n      <th>...</th>\n      <td>...</td>\n      <td>...</td>\n      <td>...</td>\n      <td>...</td>\n      <td>...</td>\n      <td>...</td>\n      <td>...</td>\n      <td>...</td>\n      <td>...</td>\n      <td>...</td>\n      <td>...</td>\n      <td>...</td>\n      <td>...</td>\n      <td>...</td>\n      <td>...</td>\n      <td>...</td>\n      <td>...</td>\n      <td>...</td>\n      <td>...</td>\n      <td>...</td>\n      <td>...</td>\n    </tr>\n    <tr>\n      <th>259</th>\n      <td>Yemen, Rep.</td>\n      <td>YEM</td>\n      <td>GDP at market prices (constant 2010 US$)</td>\n      <td>NY.GDP.MKTP.KD</td>\n      <td>NaN</td>\n      <td>NaN</td>\n      <td>NaN</td>\n      <td>NaN</td>\n      <td>NaN</td>\n      <td>NaN</td>\n      <td>...</td>\n      <td>26725653162.687698</td>\n      <td>27617869836.712101</td>\n      <td>28726558529.023499</td>\n      <td>29914355173.579201</td>\n      <td>30906753495.150101</td>\n      <td>26243421035.824600</td>\n      <td>26891601653.747101</td>\n      <td>28009137429.746201</td>\n      <td>NaN</td>\n      <td>NaN</td>\n    </tr>\n    <tr>\n      <th>260</th>\n      <td>South Africa</td>\n      <td>ZAF</td>\n      <td>GDP at market prices (constant 2010 US$)</td>\n      <td>NY.GDP.MKTP.KD</td>\n      <td>77070810927.968903</td>\n      <td>80034494636.637405</td>\n      <td>84978442119.737900</td>\n      <td>91244381889.661606</td>\n      <td>98489040998.276199</td>\n      <td>107250656239.048996</td>\n      <td>...</td>\n      <td>340285160027.947021</td>\n      <td>358526057738.422974</td>\n      <td>369966781589.994995</td>\n      <td>364276362720.085999</td>\n      <td>375349442837.239990</td>\n      <td>387407362601.250000</td>\n      <td>396007124238.281982</td>\n      <td>404768205399.940002</td>\n      <td>411036853168.560974</td>\n      <td>416311671520.861023</td>\n    </tr>\n    <tr>\n      <th>261</th>\n      <td>Congo, Dem. Rep.</td>\n      <td>COD</td>\n      <td>GDP at market prices (constant 2010 US$)</td>\n      <td>NY.GDP.MKTP.KD</td>\n      <td>15080239239.396799</td>\n      <td>13443825765.218201</td>\n      <td>16294010600.120600</td>\n      <td>17143578705.300699</td>\n      <td>16725237057.936800</td>\n      <td>16892046007.948799</td>\n      <td>...</td>\n      <td>16508944144.718300</td>\n      <td>17542316525.547298</td>\n      <td>18634483660.300400</td>\n      <td>19166509369.446999</td>\n      <td>20523285374.187000</td>\n      <td>21932132984.366501</td>\n      <td>23502004276.806900</td>\n      <td>25500497989.971901</td>\n      <td>27787759925.441799</td>\n      <td>29709613590.183601</td>\n    </tr>\n    <tr>\n      <th>262</th>\n      <td>Zambia</td>\n      <td>ZMB</td>\n      <td>GDP at market prices (constant 2010 US$)</td>\n      <td>NY.GDP.MKTP.KD</td>\n      <td>4592974755.581500</td>\n      <td>4655502678.701720</td>\n      <td>4539541577.202900</td>\n      <td>4688093222.988890</td>\n      <td>5260699172.416670</td>\n      <td>6136471743.344940</td>\n      <td>...</td>\n      <td>14405693544.016199</td>\n      <td>15608919909.945601</td>\n      <td>16822341081.069799</td>\n      <td>18373419545.141899</td>\n      <td>20265552104.396400</td>\n      <td>21403581063.296200</td>\n      <td>23024380970.417500</td>\n      <td>24205950559.400501</td>\n      <td>25422273004.668701</td>\n      <td>26241270767.755501</td>\n    </tr>\n    <tr>\n      <th>263</th>\n      <td>Zimbabwe</td>\n      <td>ZWE</td>\n      <td>GDP at market prices (constant 2010 US$)</td>\n      <td>NY.GDP.MKTP.KD</td>\n      <td>3338344012.901850</td>\n      <td>3549199070.949700</td>\n      <td>3600111298.353320</td>\n      <td>3824914650.445780</td>\n      <td>3782604520.958330</td>\n      <td>3968351985.975770</td>\n      <td>...</td>\n      <td>10062755569.021700</td>\n      <td>9695130198.507780</td>\n      <td>7982102821.163840</td>\n      <td>8459783044.330810</td>\n      <td>9422161300.000000</td>\n      <td>10543908035.032900</td>\n      <td>11657893456.879000</td>\n      <td>12180644491.500900</td>\n      <td>12649391052.821800</td>\n      <td>12785173627.385000</td>\n    </tr>\n  </tbody>\n</table>\n<p>264 rows × 60 columns</p>\n</div>"
     },
     "execution_count": 20,
     "metadata": {},
     "output_type": "execute_result"
    }
   ],
   "source": [
    "file_path = 'csv/gpd.csv'\n",
    "gdp_dp = pandas.read_csv(file_path, skiprows=4)\n",
    "pandas.options.display.float_format = '{:.6f}'.format\n",
    "gdp_dp"
   ],
   "metadata": {
    "collapsed": false,
    "ExecuteTime": {
     "end_time": "2023-11-12T21:15:41.709175100Z",
     "start_time": "2023-11-12T21:15:41.590749600Z"
    }
   },
   "id": "f13935857f56ee1f"
  },
  {
   "cell_type": "code",
   "execution_count": 21,
   "outputs": [
    {
     "data": {
      "text/plain": "         Country Name Country Code                            Indicator Name  \\\n0               Aruba          ABW  GDP at market prices (constant 2010 US$)   \n1             Andorra          AND  GDP at market prices (constant 2010 US$)   \n2         Afghanistan          AFG  GDP at market prices (constant 2010 US$)   \n3              Angola          AGO  GDP at market prices (constant 2010 US$)   \n4             Albania          ALB  GDP at market prices (constant 2010 US$)   \n..                ...          ...                                       ...   \n259       Yemen, Rep.          YEM  GDP at market prices (constant 2010 US$)   \n260      South Africa          ZAF  GDP at market prices (constant 2010 US$)   \n261  Congo, Dem. Rep.          COD  GDP at market prices (constant 2010 US$)   \n262            Zambia          ZMB  GDP at market prices (constant 2010 US$)   \n263          Zimbabwe          ZWE  GDP at market prices (constant 2010 US$)   \n\n     Indicator Code               1960               1961               1962  \\\n0    NY.GDP.MKTP.KD                NaN                NaN                NaN   \n1    NY.GDP.MKTP.KD                NaN                NaN                NaN   \n2    NY.GDP.MKTP.KD                NaN                NaN                NaN   \n3    NY.GDP.MKTP.KD                NaN                NaN                NaN   \n4    NY.GDP.MKTP.KD                NaN                NaN                NaN   \n..              ...                ...                ...                ...   \n259  NY.GDP.MKTP.KD                NaN                NaN                NaN   \n260  NY.GDP.MKTP.KD 77070810927.968903 80034494636.637405 84978442119.737900   \n261  NY.GDP.MKTP.KD 15080239239.396799 13443825765.218201 16294010600.120600   \n262  NY.GDP.MKTP.KD  4592974755.581500  4655502678.701720  4539541577.202900   \n263  NY.GDP.MKTP.KD  3338344012.901850  3549199070.949700  3600111298.353320   \n\n                  1963               1964                1965  ...  \\\n0                  NaN                NaN                 NaN  ...   \n1                  NaN                NaN                 NaN  ...   \n2                  NaN                NaN                 NaN  ...   \n3                  NaN                NaN                 NaN  ...   \n4                  NaN                NaN                 NaN  ...   \n..                 ...                ...                 ...  ...   \n259                NaN                NaN                 NaN  ...   \n260 91244381889.661606 98489040998.276199 107250656239.048996  ...   \n261 17143578705.300699 16725237057.936800  16892046007.948799  ...   \n262  4688093222.988890  5260699172.416670   6136471743.344940  ...   \n263  3824914650.445780  3782604520.958330   3968351985.975770  ...   \n\n                   2006                2007                2008  \\\n0                   NaN                 NaN                 NaN   \n1     4018195653.510150   4021331428.401050   3675727910.506810   \n2    10305228125.139200  11721187594.205200  12144482858.180000   \n3    55811028114.647903  68420444001.499496  77874196512.184494   \n4     9771760095.125540  10348293941.585300  11127520474.298100   \n..                  ...                 ...                 ...   \n259  26725653162.687698  27617869836.712101  28726558529.023499   \n260 340285160027.947021 358526057738.422974 369966781589.994995   \n261  16508944144.718300  17542316525.547298  18634483660.300400   \n262  14405693544.016199  15608919909.945601  16822341081.069799   \n263  10062755569.021700   9695130198.507780   7982102821.163840   \n\n                   2009                2010                2011  \\\n0                   NaN   2467703910.614530                 NaN   \n1     3535389132.602410   3346317328.524610   3185604581.520290   \n2    14697331940.646400  15936800636.248699  16911126453.227600   \n3    79753199398.139603  82470913120.731400  85702615836.440399   \n4    11500292411.174400  11926953258.916000  12231090567.667200   \n..                  ...                 ...                 ...   \n259  29914355173.579201  30906753495.150101  26243421035.824600   \n260 364276362720.085999 375349442837.239990 387407362601.250000   \n261  19166509369.446999  20523285374.187000  21932132984.366501   \n262  18373419545.141899  20265552104.396400  21403581063.296200   \n263   8459783044.330810   9422161300.000000  10543908035.032900   \n\n                   2012                2013                2014  \\\n0                   NaN                 NaN                 NaN   \n1     3129537611.886200   3127549907.583770                 NaN   \n2    19352203805.629398  19731337260.637798  19990317160.675598   \n3    90120963241.218597  96261432368.264496 100886286610.957993   \n4    12404772053.501400  12542465022.372999  12793314322.820499   \n..                  ...                 ...                 ...   \n259  26891601653.747101  28009137429.746201                 NaN   \n260 396007124238.281982 404768205399.940002 411036853168.560974   \n261  23502004276.806900  25500497989.971901  27787759925.441799   \n262  23024380970.417500  24205950559.400501  25422273004.668701   \n263  11657893456.879000  12180644491.500900  12649391052.821800   \n\n                   2015  \n0                   NaN  \n1                   NaN  \n2    20294152243.007198  \n3   103910558934.020004  \n4    13120823169.484699  \n..                  ...  \n259                 NaN  \n260 416311671520.861023  \n261  29709613590.183601  \n262  26241270767.755501  \n263  12785173627.385000  \n\n[264 rows x 60 columns]",
      "text/html": "<div>\n<style scoped>\n    .dataframe tbody tr th:only-of-type {\n        vertical-align: middle;\n    }\n\n    .dataframe tbody tr th {\n        vertical-align: top;\n    }\n\n    .dataframe thead th {\n        text-align: right;\n    }\n</style>\n<table border=\"1\" class=\"dataframe\">\n  <thead>\n    <tr style=\"text-align: right;\">\n      <th></th>\n      <th>Country Name</th>\n      <th>Country Code</th>\n      <th>Indicator Name</th>\n      <th>Indicator Code</th>\n      <th>1960</th>\n      <th>1961</th>\n      <th>1962</th>\n      <th>1963</th>\n      <th>1964</th>\n      <th>1965</th>\n      <th>...</th>\n      <th>2006</th>\n      <th>2007</th>\n      <th>2008</th>\n      <th>2009</th>\n      <th>2010</th>\n      <th>2011</th>\n      <th>2012</th>\n      <th>2013</th>\n      <th>2014</th>\n      <th>2015</th>\n    </tr>\n  </thead>\n  <tbody>\n    <tr>\n      <th>0</th>\n      <td>Aruba</td>\n      <td>ABW</td>\n      <td>GDP at market prices (constant 2010 US$)</td>\n      <td>NY.GDP.MKTP.KD</td>\n      <td>NaN</td>\n      <td>NaN</td>\n      <td>NaN</td>\n      <td>NaN</td>\n      <td>NaN</td>\n      <td>NaN</td>\n      <td>...</td>\n      <td>NaN</td>\n      <td>NaN</td>\n      <td>NaN</td>\n      <td>NaN</td>\n      <td>2467703910.614530</td>\n      <td>NaN</td>\n      <td>NaN</td>\n      <td>NaN</td>\n      <td>NaN</td>\n      <td>NaN</td>\n    </tr>\n    <tr>\n      <th>1</th>\n      <td>Andorra</td>\n      <td>AND</td>\n      <td>GDP at market prices (constant 2010 US$)</td>\n      <td>NY.GDP.MKTP.KD</td>\n      <td>NaN</td>\n      <td>NaN</td>\n      <td>NaN</td>\n      <td>NaN</td>\n      <td>NaN</td>\n      <td>NaN</td>\n      <td>...</td>\n      <td>4018195653.510150</td>\n      <td>4021331428.401050</td>\n      <td>3675727910.506810</td>\n      <td>3535389132.602410</td>\n      <td>3346317328.524610</td>\n      <td>3185604581.520290</td>\n      <td>3129537611.886200</td>\n      <td>3127549907.583770</td>\n      <td>NaN</td>\n      <td>NaN</td>\n    </tr>\n    <tr>\n      <th>2</th>\n      <td>Afghanistan</td>\n      <td>AFG</td>\n      <td>GDP at market prices (constant 2010 US$)</td>\n      <td>NY.GDP.MKTP.KD</td>\n      <td>NaN</td>\n      <td>NaN</td>\n      <td>NaN</td>\n      <td>NaN</td>\n      <td>NaN</td>\n      <td>NaN</td>\n      <td>...</td>\n      <td>10305228125.139200</td>\n      <td>11721187594.205200</td>\n      <td>12144482858.180000</td>\n      <td>14697331940.646400</td>\n      <td>15936800636.248699</td>\n      <td>16911126453.227600</td>\n      <td>19352203805.629398</td>\n      <td>19731337260.637798</td>\n      <td>19990317160.675598</td>\n      <td>20294152243.007198</td>\n    </tr>\n    <tr>\n      <th>3</th>\n      <td>Angola</td>\n      <td>AGO</td>\n      <td>GDP at market prices (constant 2010 US$)</td>\n      <td>NY.GDP.MKTP.KD</td>\n      <td>NaN</td>\n      <td>NaN</td>\n      <td>NaN</td>\n      <td>NaN</td>\n      <td>NaN</td>\n      <td>NaN</td>\n      <td>...</td>\n      <td>55811028114.647903</td>\n      <td>68420444001.499496</td>\n      <td>77874196512.184494</td>\n      <td>79753199398.139603</td>\n      <td>82470913120.731400</td>\n      <td>85702615836.440399</td>\n      <td>90120963241.218597</td>\n      <td>96261432368.264496</td>\n      <td>100886286610.957993</td>\n      <td>103910558934.020004</td>\n    </tr>\n    <tr>\n      <th>4</th>\n      <td>Albania</td>\n      <td>ALB</td>\n      <td>GDP at market prices (constant 2010 US$)</td>\n      <td>NY.GDP.MKTP.KD</td>\n      <td>NaN</td>\n      <td>NaN</td>\n      <td>NaN</td>\n      <td>NaN</td>\n      <td>NaN</td>\n      <td>NaN</td>\n      <td>...</td>\n      <td>9771760095.125540</td>\n      <td>10348293941.585300</td>\n      <td>11127520474.298100</td>\n      <td>11500292411.174400</td>\n      <td>11926953258.916000</td>\n      <td>12231090567.667200</td>\n      <td>12404772053.501400</td>\n      <td>12542465022.372999</td>\n      <td>12793314322.820499</td>\n      <td>13120823169.484699</td>\n    </tr>\n    <tr>\n      <th>...</th>\n      <td>...</td>\n      <td>...</td>\n      <td>...</td>\n      <td>...</td>\n      <td>...</td>\n      <td>...</td>\n      <td>...</td>\n      <td>...</td>\n      <td>...</td>\n      <td>...</td>\n      <td>...</td>\n      <td>...</td>\n      <td>...</td>\n      <td>...</td>\n      <td>...</td>\n      <td>...</td>\n      <td>...</td>\n      <td>...</td>\n      <td>...</td>\n      <td>...</td>\n      <td>...</td>\n    </tr>\n    <tr>\n      <th>259</th>\n      <td>Yemen, Rep.</td>\n      <td>YEM</td>\n      <td>GDP at market prices (constant 2010 US$)</td>\n      <td>NY.GDP.MKTP.KD</td>\n      <td>NaN</td>\n      <td>NaN</td>\n      <td>NaN</td>\n      <td>NaN</td>\n      <td>NaN</td>\n      <td>NaN</td>\n      <td>...</td>\n      <td>26725653162.687698</td>\n      <td>27617869836.712101</td>\n      <td>28726558529.023499</td>\n      <td>29914355173.579201</td>\n      <td>30906753495.150101</td>\n      <td>26243421035.824600</td>\n      <td>26891601653.747101</td>\n      <td>28009137429.746201</td>\n      <td>NaN</td>\n      <td>NaN</td>\n    </tr>\n    <tr>\n      <th>260</th>\n      <td>South Africa</td>\n      <td>ZAF</td>\n      <td>GDP at market prices (constant 2010 US$)</td>\n      <td>NY.GDP.MKTP.KD</td>\n      <td>77070810927.968903</td>\n      <td>80034494636.637405</td>\n      <td>84978442119.737900</td>\n      <td>91244381889.661606</td>\n      <td>98489040998.276199</td>\n      <td>107250656239.048996</td>\n      <td>...</td>\n      <td>340285160027.947021</td>\n      <td>358526057738.422974</td>\n      <td>369966781589.994995</td>\n      <td>364276362720.085999</td>\n      <td>375349442837.239990</td>\n      <td>387407362601.250000</td>\n      <td>396007124238.281982</td>\n      <td>404768205399.940002</td>\n      <td>411036853168.560974</td>\n      <td>416311671520.861023</td>\n    </tr>\n    <tr>\n      <th>261</th>\n      <td>Congo, Dem. Rep.</td>\n      <td>COD</td>\n      <td>GDP at market prices (constant 2010 US$)</td>\n      <td>NY.GDP.MKTP.KD</td>\n      <td>15080239239.396799</td>\n      <td>13443825765.218201</td>\n      <td>16294010600.120600</td>\n      <td>17143578705.300699</td>\n      <td>16725237057.936800</td>\n      <td>16892046007.948799</td>\n      <td>...</td>\n      <td>16508944144.718300</td>\n      <td>17542316525.547298</td>\n      <td>18634483660.300400</td>\n      <td>19166509369.446999</td>\n      <td>20523285374.187000</td>\n      <td>21932132984.366501</td>\n      <td>23502004276.806900</td>\n      <td>25500497989.971901</td>\n      <td>27787759925.441799</td>\n      <td>29709613590.183601</td>\n    </tr>\n    <tr>\n      <th>262</th>\n      <td>Zambia</td>\n      <td>ZMB</td>\n      <td>GDP at market prices (constant 2010 US$)</td>\n      <td>NY.GDP.MKTP.KD</td>\n      <td>4592974755.581500</td>\n      <td>4655502678.701720</td>\n      <td>4539541577.202900</td>\n      <td>4688093222.988890</td>\n      <td>5260699172.416670</td>\n      <td>6136471743.344940</td>\n      <td>...</td>\n      <td>14405693544.016199</td>\n      <td>15608919909.945601</td>\n      <td>16822341081.069799</td>\n      <td>18373419545.141899</td>\n      <td>20265552104.396400</td>\n      <td>21403581063.296200</td>\n      <td>23024380970.417500</td>\n      <td>24205950559.400501</td>\n      <td>25422273004.668701</td>\n      <td>26241270767.755501</td>\n    </tr>\n    <tr>\n      <th>263</th>\n      <td>Zimbabwe</td>\n      <td>ZWE</td>\n      <td>GDP at market prices (constant 2010 US$)</td>\n      <td>NY.GDP.MKTP.KD</td>\n      <td>3338344012.901850</td>\n      <td>3549199070.949700</td>\n      <td>3600111298.353320</td>\n      <td>3824914650.445780</td>\n      <td>3782604520.958330</td>\n      <td>3968351985.975770</td>\n      <td>...</td>\n      <td>10062755569.021700</td>\n      <td>9695130198.507780</td>\n      <td>7982102821.163840</td>\n      <td>8459783044.330810</td>\n      <td>9422161300.000000</td>\n      <td>10543908035.032900</td>\n      <td>11657893456.879000</td>\n      <td>12180644491.500900</td>\n      <td>12649391052.821800</td>\n      <td>12785173627.385000</td>\n    </tr>\n  </tbody>\n</table>\n<p>264 rows × 60 columns</p>\n</div>"
     },
     "execution_count": 21,
     "metadata": {},
     "output_type": "execute_result"
    }
   ],
   "source": [
    "gdp_dp['Country Name'] = gdp_dp['Country Name'].replace('Korea, Rep.', 'South Korea')\n",
    "gdp_dp['Country Name'] = gdp_dp['Country Name'].replace('Iran, Islamic Rep.', 'Iran')\n",
    "gdp_dp['Country Name'] = gdp_dp['Country Name'].replace('Hong Kong SAR, China', 'Hong Kong')\n",
    "gdp_dp"
   ],
   "metadata": {
    "collapsed": false,
    "ExecuteTime": {
     "end_time": "2023-11-12T21:15:41.710169800Z",
     "start_time": "2023-11-12T21:15:41.609443800Z"
    }
   },
   "id": "cf8c4f1f1adf5987"
  },
  {
   "cell_type": "code",
   "execution_count": 22,
   "outputs": [
    {
     "data": {
      "text/plain": "     Rank             Country  Documents  Citable documents  Citations  \\\n0       1               China     127050             126767     597237   \n1       2       United States      96661              94747     792274   \n2       3               Japan      30504              30287     223024   \n3       4      United Kingdom      20944              20357     206091   \n4       5  Russian Federation      18534              18301      34266   \n..    ...                 ...        ...                ...        ...   \n186   187              Guyana          1                  1          0   \n187   188    Christmas Island          1                  1          0   \n188   189             Reunion          1                  1          2   \n189   190         Saint Lucia          1                  1          0   \n190   191          Mauritania          1                  1          1   \n\n     Self-citations  Citations per document  H index  \n0            411683                4.700000      138  \n1            265436                8.200000      230  \n2             61554                7.310000      134  \n3             37874                9.840000      139  \n4             12422                1.850000       57  \n..              ...                     ...      ...  \n186               0                0.000000        0  \n187               0                0.000000        0  \n188               1                2.000000        1  \n189               0                0.000000        0  \n190               0                1.000000        1  \n\n[191 rows x 8 columns]",
      "text/html": "<div>\n<style scoped>\n    .dataframe tbody tr th:only-of-type {\n        vertical-align: middle;\n    }\n\n    .dataframe tbody tr th {\n        vertical-align: top;\n    }\n\n    .dataframe thead th {\n        text-align: right;\n    }\n</style>\n<table border=\"1\" class=\"dataframe\">\n  <thead>\n    <tr style=\"text-align: right;\">\n      <th></th>\n      <th>Rank</th>\n      <th>Country</th>\n      <th>Documents</th>\n      <th>Citable documents</th>\n      <th>Citations</th>\n      <th>Self-citations</th>\n      <th>Citations per document</th>\n      <th>H index</th>\n    </tr>\n  </thead>\n  <tbody>\n    <tr>\n      <th>0</th>\n      <td>1</td>\n      <td>China</td>\n      <td>127050</td>\n      <td>126767</td>\n      <td>597237</td>\n      <td>411683</td>\n      <td>4.700000</td>\n      <td>138</td>\n    </tr>\n    <tr>\n      <th>1</th>\n      <td>2</td>\n      <td>United States</td>\n      <td>96661</td>\n      <td>94747</td>\n      <td>792274</td>\n      <td>265436</td>\n      <td>8.200000</td>\n      <td>230</td>\n    </tr>\n    <tr>\n      <th>2</th>\n      <td>3</td>\n      <td>Japan</td>\n      <td>30504</td>\n      <td>30287</td>\n      <td>223024</td>\n      <td>61554</td>\n      <td>7.310000</td>\n      <td>134</td>\n    </tr>\n    <tr>\n      <th>3</th>\n      <td>4</td>\n      <td>United Kingdom</td>\n      <td>20944</td>\n      <td>20357</td>\n      <td>206091</td>\n      <td>37874</td>\n      <td>9.840000</td>\n      <td>139</td>\n    </tr>\n    <tr>\n      <th>4</th>\n      <td>5</td>\n      <td>Russian Federation</td>\n      <td>18534</td>\n      <td>18301</td>\n      <td>34266</td>\n      <td>12422</td>\n      <td>1.850000</td>\n      <td>57</td>\n    </tr>\n    <tr>\n      <th>...</th>\n      <td>...</td>\n      <td>...</td>\n      <td>...</td>\n      <td>...</td>\n      <td>...</td>\n      <td>...</td>\n      <td>...</td>\n      <td>...</td>\n    </tr>\n    <tr>\n      <th>186</th>\n      <td>187</td>\n      <td>Guyana</td>\n      <td>1</td>\n      <td>1</td>\n      <td>0</td>\n      <td>0</td>\n      <td>0.000000</td>\n      <td>0</td>\n    </tr>\n    <tr>\n      <th>187</th>\n      <td>188</td>\n      <td>Christmas Island</td>\n      <td>1</td>\n      <td>1</td>\n      <td>0</td>\n      <td>0</td>\n      <td>0.000000</td>\n      <td>0</td>\n    </tr>\n    <tr>\n      <th>188</th>\n      <td>189</td>\n      <td>Reunion</td>\n      <td>1</td>\n      <td>1</td>\n      <td>2</td>\n      <td>1</td>\n      <td>2.000000</td>\n      <td>1</td>\n    </tr>\n    <tr>\n      <th>189</th>\n      <td>190</td>\n      <td>Saint Lucia</td>\n      <td>1</td>\n      <td>1</td>\n      <td>0</td>\n      <td>0</td>\n      <td>0.000000</td>\n      <td>0</td>\n    </tr>\n    <tr>\n      <th>190</th>\n      <td>191</td>\n      <td>Mauritania</td>\n      <td>1</td>\n      <td>1</td>\n      <td>1</td>\n      <td>0</td>\n      <td>1.000000</td>\n      <td>1</td>\n    </tr>\n  </tbody>\n</table>\n<p>191 rows × 8 columns</p>\n</div>"
     },
     "execution_count": 22,
     "metadata": {},
     "output_type": "execute_result"
    }
   ],
   "source": [
    "file_path = 'xlsx/scimagojr.xlsx'\n",
    "scimagojr_df = pandas.read_excel(file_path)\n",
    "scimagojr_df"
   ],
   "metadata": {
    "collapsed": false,
    "ExecuteTime": {
     "end_time": "2023-11-12T21:15:41.778731700Z",
     "start_time": "2023-11-12T21:15:41.623403500Z"
    }
   },
   "id": "27c2641437b9c39f"
  },
  {
   "cell_type": "code",
   "execution_count": 23,
   "outputs": [
    {
     "data": {
      "text/plain": "                    Rank  Documents  Citable documents  Citations  \\\nCountry                                                             \nChina                  1     127050             126767     597237   \nUnited States          2      96661              94747     792274   \nJapan                  3      30504              30287     223024   \nUnited Kingdom         4      20944              20357     206091   \nRussian Federation     5      18534              18301      34266   \nCanada                 6      17899              17620     215003   \nGermany                7      17027              16831     140566   \nIndia                  8      15005              14841     128763   \nFrance                 9      13153              12973     130632   \nSouth Korea           10      11983              11923     114675   \nItaly                 11      10964              10794     111850   \nSpain                 12       9428               9330     123336   \nIran                  13       8896               8819      57470   \nAustralia             14       8831               8725      90765   \nBrazil                15       8668               8596      60702   \n\n                    Self-citations  Citations per document  H index  \\\nCountry                                                               \nChina                       411683                4.700000      138   \nUnited States               265436                8.200000      230   \nJapan                        61554                7.310000      134   \nUnited Kingdom               37874                9.840000      139   \nRussian Federation           12422                1.850000       57   \nCanada                       40930               12.010000      149   \nGermany                      27426                8.260000      126   \nIndia                        37209                8.580000      115   \nFrance                       28601                9.930000      114   \nSouth Korea                  22595                9.570000      104   \nItaly                        26661               10.200000      106   \nSpain                        23964               13.080000      115   \nIran                         19125                6.460000       72   \nAustralia                    15606               10.280000      107   \nBrazil                       14396                7.000000       86   \n\n                         Energy Supply  Energy Supply per Capital  \\\nCountry                                                             \nChina              127191000000.000000                  93.000000   \nUnited States       90838000000.000000                 286.000000   \nJapan               18984000000.000000                 149.000000   \nUnited Kingdom       7920000000.000000                 124.000000   \nRussian Federation  30709000000.000000                 214.000000   \nCanada              10431000000.000000                 296.000000   \nGermany             13261000000.000000                 165.000000   \nIndia               33195000000.000000                  26.000000   \nFrance              10597000000.000000                 166.000000   \nSouth Korea         11007000000.000000                 221.000000   \nItaly                6530000000.000000                 109.000000   \nSpain                4923000000.000000                 106.000000   \nIran                 9172000000.000000                 119.000000   \nAustralia            5386000000.000000                 231.000000   \nBrazil              12149000000.000000                  59.000000   \n\n                    % Renewable                  2006                  2007  \\\nCountry                                                                       \nChina                 19.754910  3992331462570.890137  4559041383517.929688   \nUnited States         11.570980 14792303791800.000000 15055395304800.000000   \nJapan                 10.232820  5496541517363.309570  5617035943770.730469   \nUnited Kingdom        10.600470  2419630700401.729980  2482203235475.899902   \nRussian Federation    17.288680  1385792607182.580078  1504071117741.300049   \nCanada                61.945430  1564468853329.449951  1596739898466.320068   \nGermany               17.901530  3332890754966.890137  3441560834437.089844   \nIndia                 14.969080  1265894322131.090088  1374865195244.500000   \nFrance                17.020280  2607839735099.339844  2669423841059.600098   \nSouth Korea            2.279353   941019882149.125000   992431619676.197021   \nItaly                 33.667230  2202169663576.160156  2234626814701.990234   \nSpain                 37.968590  1414822516556.290039  1468145695364.239990   \nIran                   5.707721   389552313541.270020   425064554419.086975   \nAustralia             11.810810  1021939264106.670044  1060340245233.550049   \nBrazil                69.648030  1845079664513.560059  1957118136056.330078   \n\n                                    2008                  2009  \\\nCountry                                                          \nChina               4997775145605.959961  5459247267275.139648   \nUnited States      15011490541400.000000 14594842181900.000000   \nJapan               5558526873313.820312  5251308399909.320312   \nUnited Kingdom      2470614405284.299805  2367047611711.990234   \nRussian Federation  1583004071092.110107  1459199142720.260010   \nCanada              1612713061250.239990  1565144676082.310059   \nGermany             3478809377483.439941  3283339933774.830078   \nIndia               1428360609657.800049  1549482541544.699951   \nFrance              2674637086092.709961  2595966887417.220215   \nSouth Korea         1020509638539.709961  1027729932849.170044   \nItaly               2211154176556.290039  2089937511523.179932   \nSpain               1484529801324.500000  1431475496688.739990   \nIran                 428990857822.094971   438920754763.986023   \nAustralia           1099643871866.030029  1119653852349.080078   \nBrazil              2056809174052.929932  2054214562458.189941   \n\n                                    2010                  2011  \\\nCountry                                                          \nChina               6039658508485.589844  6612490294273.650391   \nUnited States      14964372000000.000000 15204019634600.000000   \nJapan               5498717815809.769531  5473738114222.049805   \nUnited Kingdom      2403504326328.799805  2450911011124.850098   \nRussian Federation  1524917468442.010010  1589942641764.290039   \nCanada              1613406134731.120117  1664086754804.889893   \nGermany             3417298013245.029785  3542371125827.810059   \nIndia               1708458876829.919922  1821872415623.620117   \nFrance              2646994701986.750000  2702031788079.470215   \nSouth Korea         1094499338702.719971  1134795571930.639893   \nItaly               2125184794172.189941  2137439133774.830078   \nSpain               1431672847682.120117  1417354966887.419922   \nIran                 467790215915.476013   485330901134.447998   \nAustralia           1142250506474.060059  1169431057881.909912   \nBrazil              2208872214643.020020  2295244758549.529785   \n\n                                    2012                  2013  \\\nCountry                                                          \nChina               7124977970399.610352  7672447738017.419922   \nUnited States      15542161722300.000000 15773666098800.000000   \nJapan               5569101602926.179688  5644658523313.419922   \nUnited Kingdom      2479808627472.189941  2533370110012.359863   \nRussian Federation  1645875899596.270020  1666934123163.159912   \nCanada              1693132927878.080078  1730687770724.129883   \nGermany             3556723774834.439941  3567317390728.479980   \nIndia               1924235460945.250000  2051981849791.689941   \nFrance              2706968211920.529785  2722566887417.220215   \nSouth Korea         1160809426196.790039  1194429021591.570068   \nItaly               2077184315761.590088  2040871178145.699951   \nSpain               1380215894039.729980  1357139072847.679932   \nIran                 453256899727.831970   444592553889.770996   \nAustralia           1211913217353.489990  1241484494446.530029   \nBrazil              2339209222185.089844  2409739667075.819824   \n\n                                    2014                  2015  \nCountry                                                         \nChina               8230120617793.519531  8797998940421.279297  \nUnited States      16156618476000.000000 16548573278300.000000  \nJapan               5642884448582.190430  5669563143140.969727  \nUnited Kingdom      2605643189894.930176  2666333396477.129883  \nRussian Federation  1678708855070.860107  1616148858033.770020  \nCanada              1773485821199.770020  1792608764608.810059  \nGermany             3624386278145.700195  3685555907284.770020  \nIndia               2200616575310.970215  2367206118959.060059  \nFrance              2729631788079.470215  2761185430463.580078  \nSouth Korea         1234340240503.489990  1266580410309.110107  \nItaly               2033867707549.669922  2049315603576.159912  \nSpain               1375605298013.239990  1419821192052.979980  \nIran                 463902735245.890015                   NaN  \nAustralia           1272519759757.290039  1301251030445.659912  \nBrazil              2412230647720.450195  2319423390494.129883  ",
      "text/html": "<div>\n<style scoped>\n    .dataframe tbody tr th:only-of-type {\n        vertical-align: middle;\n    }\n\n    .dataframe tbody tr th {\n        vertical-align: top;\n    }\n\n    .dataframe thead th {\n        text-align: right;\n    }\n</style>\n<table border=\"1\" class=\"dataframe\">\n  <thead>\n    <tr style=\"text-align: right;\">\n      <th></th>\n      <th>Rank</th>\n      <th>Documents</th>\n      <th>Citable documents</th>\n      <th>Citations</th>\n      <th>Self-citations</th>\n      <th>Citations per document</th>\n      <th>H index</th>\n      <th>Energy Supply</th>\n      <th>Energy Supply per Capital</th>\n      <th>% Renewable</th>\n      <th>2006</th>\n      <th>2007</th>\n      <th>2008</th>\n      <th>2009</th>\n      <th>2010</th>\n      <th>2011</th>\n      <th>2012</th>\n      <th>2013</th>\n      <th>2014</th>\n      <th>2015</th>\n    </tr>\n    <tr>\n      <th>Country</th>\n      <th></th>\n      <th></th>\n      <th></th>\n      <th></th>\n      <th></th>\n      <th></th>\n      <th></th>\n      <th></th>\n      <th></th>\n      <th></th>\n      <th></th>\n      <th></th>\n      <th></th>\n      <th></th>\n      <th></th>\n      <th></th>\n      <th></th>\n      <th></th>\n      <th></th>\n      <th></th>\n    </tr>\n  </thead>\n  <tbody>\n    <tr>\n      <th>China</th>\n      <td>1</td>\n      <td>127050</td>\n      <td>126767</td>\n      <td>597237</td>\n      <td>411683</td>\n      <td>4.700000</td>\n      <td>138</td>\n      <td>127191000000.000000</td>\n      <td>93.000000</td>\n      <td>19.754910</td>\n      <td>3992331462570.890137</td>\n      <td>4559041383517.929688</td>\n      <td>4997775145605.959961</td>\n      <td>5459247267275.139648</td>\n      <td>6039658508485.589844</td>\n      <td>6612490294273.650391</td>\n      <td>7124977970399.610352</td>\n      <td>7672447738017.419922</td>\n      <td>8230120617793.519531</td>\n      <td>8797998940421.279297</td>\n    </tr>\n    <tr>\n      <th>United States</th>\n      <td>2</td>\n      <td>96661</td>\n      <td>94747</td>\n      <td>792274</td>\n      <td>265436</td>\n      <td>8.200000</td>\n      <td>230</td>\n      <td>90838000000.000000</td>\n      <td>286.000000</td>\n      <td>11.570980</td>\n      <td>14792303791800.000000</td>\n      <td>15055395304800.000000</td>\n      <td>15011490541400.000000</td>\n      <td>14594842181900.000000</td>\n      <td>14964372000000.000000</td>\n      <td>15204019634600.000000</td>\n      <td>15542161722300.000000</td>\n      <td>15773666098800.000000</td>\n      <td>16156618476000.000000</td>\n      <td>16548573278300.000000</td>\n    </tr>\n    <tr>\n      <th>Japan</th>\n      <td>3</td>\n      <td>30504</td>\n      <td>30287</td>\n      <td>223024</td>\n      <td>61554</td>\n      <td>7.310000</td>\n      <td>134</td>\n      <td>18984000000.000000</td>\n      <td>149.000000</td>\n      <td>10.232820</td>\n      <td>5496541517363.309570</td>\n      <td>5617035943770.730469</td>\n      <td>5558526873313.820312</td>\n      <td>5251308399909.320312</td>\n      <td>5498717815809.769531</td>\n      <td>5473738114222.049805</td>\n      <td>5569101602926.179688</td>\n      <td>5644658523313.419922</td>\n      <td>5642884448582.190430</td>\n      <td>5669563143140.969727</td>\n    </tr>\n    <tr>\n      <th>United Kingdom</th>\n      <td>4</td>\n      <td>20944</td>\n      <td>20357</td>\n      <td>206091</td>\n      <td>37874</td>\n      <td>9.840000</td>\n      <td>139</td>\n      <td>7920000000.000000</td>\n      <td>124.000000</td>\n      <td>10.600470</td>\n      <td>2419630700401.729980</td>\n      <td>2482203235475.899902</td>\n      <td>2470614405284.299805</td>\n      <td>2367047611711.990234</td>\n      <td>2403504326328.799805</td>\n      <td>2450911011124.850098</td>\n      <td>2479808627472.189941</td>\n      <td>2533370110012.359863</td>\n      <td>2605643189894.930176</td>\n      <td>2666333396477.129883</td>\n    </tr>\n    <tr>\n      <th>Russian Federation</th>\n      <td>5</td>\n      <td>18534</td>\n      <td>18301</td>\n      <td>34266</td>\n      <td>12422</td>\n      <td>1.850000</td>\n      <td>57</td>\n      <td>30709000000.000000</td>\n      <td>214.000000</td>\n      <td>17.288680</td>\n      <td>1385792607182.580078</td>\n      <td>1504071117741.300049</td>\n      <td>1583004071092.110107</td>\n      <td>1459199142720.260010</td>\n      <td>1524917468442.010010</td>\n      <td>1589942641764.290039</td>\n      <td>1645875899596.270020</td>\n      <td>1666934123163.159912</td>\n      <td>1678708855070.860107</td>\n      <td>1616148858033.770020</td>\n    </tr>\n    <tr>\n      <th>Canada</th>\n      <td>6</td>\n      <td>17899</td>\n      <td>17620</td>\n      <td>215003</td>\n      <td>40930</td>\n      <td>12.010000</td>\n      <td>149</td>\n      <td>10431000000.000000</td>\n      <td>296.000000</td>\n      <td>61.945430</td>\n      <td>1564468853329.449951</td>\n      <td>1596739898466.320068</td>\n      <td>1612713061250.239990</td>\n      <td>1565144676082.310059</td>\n      <td>1613406134731.120117</td>\n      <td>1664086754804.889893</td>\n      <td>1693132927878.080078</td>\n      <td>1730687770724.129883</td>\n      <td>1773485821199.770020</td>\n      <td>1792608764608.810059</td>\n    </tr>\n    <tr>\n      <th>Germany</th>\n      <td>7</td>\n      <td>17027</td>\n      <td>16831</td>\n      <td>140566</td>\n      <td>27426</td>\n      <td>8.260000</td>\n      <td>126</td>\n      <td>13261000000.000000</td>\n      <td>165.000000</td>\n      <td>17.901530</td>\n      <td>3332890754966.890137</td>\n      <td>3441560834437.089844</td>\n      <td>3478809377483.439941</td>\n      <td>3283339933774.830078</td>\n      <td>3417298013245.029785</td>\n      <td>3542371125827.810059</td>\n      <td>3556723774834.439941</td>\n      <td>3567317390728.479980</td>\n      <td>3624386278145.700195</td>\n      <td>3685555907284.770020</td>\n    </tr>\n    <tr>\n      <th>India</th>\n      <td>8</td>\n      <td>15005</td>\n      <td>14841</td>\n      <td>128763</td>\n      <td>37209</td>\n      <td>8.580000</td>\n      <td>115</td>\n      <td>33195000000.000000</td>\n      <td>26.000000</td>\n      <td>14.969080</td>\n      <td>1265894322131.090088</td>\n      <td>1374865195244.500000</td>\n      <td>1428360609657.800049</td>\n      <td>1549482541544.699951</td>\n      <td>1708458876829.919922</td>\n      <td>1821872415623.620117</td>\n      <td>1924235460945.250000</td>\n      <td>2051981849791.689941</td>\n      <td>2200616575310.970215</td>\n      <td>2367206118959.060059</td>\n    </tr>\n    <tr>\n      <th>France</th>\n      <td>9</td>\n      <td>13153</td>\n      <td>12973</td>\n      <td>130632</td>\n      <td>28601</td>\n      <td>9.930000</td>\n      <td>114</td>\n      <td>10597000000.000000</td>\n      <td>166.000000</td>\n      <td>17.020280</td>\n      <td>2607839735099.339844</td>\n      <td>2669423841059.600098</td>\n      <td>2674637086092.709961</td>\n      <td>2595966887417.220215</td>\n      <td>2646994701986.750000</td>\n      <td>2702031788079.470215</td>\n      <td>2706968211920.529785</td>\n      <td>2722566887417.220215</td>\n      <td>2729631788079.470215</td>\n      <td>2761185430463.580078</td>\n    </tr>\n    <tr>\n      <th>South Korea</th>\n      <td>10</td>\n      <td>11983</td>\n      <td>11923</td>\n      <td>114675</td>\n      <td>22595</td>\n      <td>9.570000</td>\n      <td>104</td>\n      <td>11007000000.000000</td>\n      <td>221.000000</td>\n      <td>2.279353</td>\n      <td>941019882149.125000</td>\n      <td>992431619676.197021</td>\n      <td>1020509638539.709961</td>\n      <td>1027729932849.170044</td>\n      <td>1094499338702.719971</td>\n      <td>1134795571930.639893</td>\n      <td>1160809426196.790039</td>\n      <td>1194429021591.570068</td>\n      <td>1234340240503.489990</td>\n      <td>1266580410309.110107</td>\n    </tr>\n    <tr>\n      <th>Italy</th>\n      <td>11</td>\n      <td>10964</td>\n      <td>10794</td>\n      <td>111850</td>\n      <td>26661</td>\n      <td>10.200000</td>\n      <td>106</td>\n      <td>6530000000.000000</td>\n      <td>109.000000</td>\n      <td>33.667230</td>\n      <td>2202169663576.160156</td>\n      <td>2234626814701.990234</td>\n      <td>2211154176556.290039</td>\n      <td>2089937511523.179932</td>\n      <td>2125184794172.189941</td>\n      <td>2137439133774.830078</td>\n      <td>2077184315761.590088</td>\n      <td>2040871178145.699951</td>\n      <td>2033867707549.669922</td>\n      <td>2049315603576.159912</td>\n    </tr>\n    <tr>\n      <th>Spain</th>\n      <td>12</td>\n      <td>9428</td>\n      <td>9330</td>\n      <td>123336</td>\n      <td>23964</td>\n      <td>13.080000</td>\n      <td>115</td>\n      <td>4923000000.000000</td>\n      <td>106.000000</td>\n      <td>37.968590</td>\n      <td>1414822516556.290039</td>\n      <td>1468145695364.239990</td>\n      <td>1484529801324.500000</td>\n      <td>1431475496688.739990</td>\n      <td>1431672847682.120117</td>\n      <td>1417354966887.419922</td>\n      <td>1380215894039.729980</td>\n      <td>1357139072847.679932</td>\n      <td>1375605298013.239990</td>\n      <td>1419821192052.979980</td>\n    </tr>\n    <tr>\n      <th>Iran</th>\n      <td>13</td>\n      <td>8896</td>\n      <td>8819</td>\n      <td>57470</td>\n      <td>19125</td>\n      <td>6.460000</td>\n      <td>72</td>\n      <td>9172000000.000000</td>\n      <td>119.000000</td>\n      <td>5.707721</td>\n      <td>389552313541.270020</td>\n      <td>425064554419.086975</td>\n      <td>428990857822.094971</td>\n      <td>438920754763.986023</td>\n      <td>467790215915.476013</td>\n      <td>485330901134.447998</td>\n      <td>453256899727.831970</td>\n      <td>444592553889.770996</td>\n      <td>463902735245.890015</td>\n      <td>NaN</td>\n    </tr>\n    <tr>\n      <th>Australia</th>\n      <td>14</td>\n      <td>8831</td>\n      <td>8725</td>\n      <td>90765</td>\n      <td>15606</td>\n      <td>10.280000</td>\n      <td>107</td>\n      <td>5386000000.000000</td>\n      <td>231.000000</td>\n      <td>11.810810</td>\n      <td>1021939264106.670044</td>\n      <td>1060340245233.550049</td>\n      <td>1099643871866.030029</td>\n      <td>1119653852349.080078</td>\n      <td>1142250506474.060059</td>\n      <td>1169431057881.909912</td>\n      <td>1211913217353.489990</td>\n      <td>1241484494446.530029</td>\n      <td>1272519759757.290039</td>\n      <td>1301251030445.659912</td>\n    </tr>\n    <tr>\n      <th>Brazil</th>\n      <td>15</td>\n      <td>8668</td>\n      <td>8596</td>\n      <td>60702</td>\n      <td>14396</td>\n      <td>7.000000</td>\n      <td>86</td>\n      <td>12149000000.000000</td>\n      <td>59.000000</td>\n      <td>69.648030</td>\n      <td>1845079664513.560059</td>\n      <td>1957118136056.330078</td>\n      <td>2056809174052.929932</td>\n      <td>2054214562458.189941</td>\n      <td>2208872214643.020020</td>\n      <td>2295244758549.529785</td>\n      <td>2339209222185.089844</td>\n      <td>2409739667075.819824</td>\n      <td>2412230647720.450195</td>\n      <td>2319423390494.129883</td>\n    </tr>\n  </tbody>\n</table>\n</div>"
     },
     "execution_count": 23,
     "metadata": {},
     "output_type": "execute_result"
    }
   ],
   "source": [
    "merged_df = pandas.merge(ei_df, scimagojr_df, on='Country', how='inner')\n",
    "gdp_dp = gdp_dp.rename(columns={'Country Name': 'Country'})\n",
    "merged_df = pandas.merge(merged_df, gdp_dp, on='Country', how='inner')\n",
    "merged_df = merged_df.sort_values(by='Rank', ascending=True)\n",
    "merged_df = merged_df[['Country', 'Rank', 'Documents', 'Citable documents', 'Citations', 'Self-citations', 'Citations per document', 'H index', 'Energy Supply', 'Energy Supply per Capital', '% Renewable', '2006', '2007', '2008', '2009', '2010', '2011', '2012', '2013', '2014', '2015']]\n",
    "merged_df.set_index('Country', inplace=True)\n",
    "merged_df = merged_df.head(15)\n",
    "merged_df"
   ],
   "metadata": {
    "collapsed": false,
    "ExecuteTime": {
     "end_time": "2023-11-12T21:15:41.778731700Z",
     "start_time": "2023-11-12T21:15:41.672913600Z"
    }
   },
   "id": "d44363dc13a2f097"
  },
  {
   "cell_type": "code",
   "execution_count": 24,
   "outputs": [
    {
     "data": {
      "text/plain": "Country\nChina                 6348608932836.099609\nUnited States        15364344302990.000000\nJapan                 5542207638235.175781\nUnited Kingdom        2487906661418.417480\nRussian Federation    1565459478480.660889\nCanada                1660647466307.511963\nGermany               3493025339072.848145\nIndia                 1769297396603.859863\nFrance                2681724635761.588867\nSouth Korea           1106714508244.852051\nItaly                 2120175089933.776123\nSpain                 1418078278145.694092\nIran                                   NaN\nAustralia             1164042729991.427002\nBrazil                2189794143774.904785\nName: GDP per 10 years, dtype: float64"
     },
     "execution_count": 24,
     "metadata": {},
     "output_type": "execute_result"
    }
   ],
   "source": [
    "# 8\n",
    "def task_eight(df):\n",
    "    return pandas.Series((df['2006'] + df['2007'] + df['2008'] + df['2009'] + df['2010'] + df['2011'] + df['2012'] + df['2013'] + df['2014'] + df['2015']) / 10, name='GDP per 10 years')\n",
    "task_eight(merged_df)"
   ],
   "metadata": {
    "collapsed": false,
    "ExecuteTime": {
     "end_time": "2023-11-12T21:15:41.786733200Z",
     "start_time": "2023-11-12T21:15:41.690043800Z"
    }
   },
   "id": "eb1cdd08aabba5ed"
  },
  {
   "cell_type": "code",
   "execution_count": 25,
   "outputs": [
    {
     "data": {
      "text/plain": "('France', 153345695364.24023)"
     },
     "execution_count": 25,
     "metadata": {},
     "output_type": "execute_result"
    }
   ],
   "source": [
    "def task_nine(df):\n",
    "    df['GDP per 10 years'] = task_eight(df)\n",
    "    df = df.sort_values(by='GDP per 10 years', ascending=False)\n",
    "    df = df.reset_index()\n",
    "    df = df[df.index == 4]\n",
    "    df['GDP_difference'] = pandas.Series(df['2015'] - df['2006'], name='GDP_difference')\n",
    "    return df['Country'].item(), df['GDP_difference'].item()\n",
    "task_nine(merged_df)"
   ],
   "metadata": {
    "collapsed": false,
    "ExecuteTime": {
     "end_time": "2023-11-12T21:15:41.786733200Z",
     "start_time": "2023-11-12T21:15:41.697707600Z"
    }
   },
   "id": "dd8307f250fa916"
  },
  {
   "cell_type": "code",
   "execution_count": 26,
   "outputs": [
    {
     "data": {
      "text/plain": "('Brazil', 69.64803)"
     },
     "execution_count": 26,
     "metadata": {},
     "output_type": "execute_result"
    }
   ],
   "source": [
    "def task_ten(df):\n",
    "    return df['% Renewable'].idxmax(), df['% Renewable'].max()\n",
    "task_ten(merged_df)"
   ],
   "metadata": {
    "collapsed": false,
    "ExecuteTime": {
     "end_time": "2023-11-12T21:15:41.787733200Z",
     "start_time": "2023-11-12T21:15:41.706115400Z"
    }
   },
   "id": "954447374dfa0f41"
  },
  {
   "cell_type": "code",
   "execution_count": 27,
   "outputs": [
    {
     "data": {
      "text/plain": "('Japan', 127409395.97315437)"
     },
     "execution_count": 27,
     "metadata": {},
     "output_type": "execute_result"
    }
   ],
   "source": [
    "def task_eleven(df):\n",
    "    df['Population'] = pandas.Series(df['Energy Supply'] / df['Energy Supply per Capital'], name='population')\n",
    "    df = df.sort_values(by='Population', ascending=False)\n",
    "    df = df.reset_index()\n",
    "    df = df[df.index == 5]\n",
    "    return df['Country'].item(), df['Population'].item()\n",
    "task_eleven(merged_df)"
   ],
   "metadata": {
    "collapsed": false,
    "ExecuteTime": {
     "end_time": "2023-11-12T21:15:41.787733200Z",
     "start_time": "2023-11-12T21:15:41.712170300Z"
    }
   },
   "id": "7e6c68d3955c3a23"
  },
  {
   "cell_type": "code",
   "execution_count": 28,
   "outputs": [],
   "source": [
    "def task_twelve():\n",
    "    return\n",
    "task_twelve()"
   ],
   "metadata": {
    "collapsed": false,
    "ExecuteTime": {
     "end_time": "2023-11-12T21:15:41.787733200Z",
     "start_time": "2023-11-12T21:15:41.720054900Z"
    }
   },
   "id": "baa96edc7f561a53"
  },
  {
   "cell_type": "code",
   "execution_count": 29,
   "outputs": [
    {
     "data": {
      "text/plain": "Country\nChina                 1\nUnited States         0\nJapan                 0\nUnited Kingdom        0\nRussian Federation    1\nCanada                1\nGermany               1\nIndia                 0\nFrance                1\nSouth Korea           0\nItaly                 1\nSpain                 1\nIran                  0\nAustralia             0\nBrazil                1\nName: Renewable bigger or equals median, dtype: int64"
     },
     "execution_count": 29,
     "metadata": {},
     "output_type": "execute_result"
    }
   ],
   "source": [
    "#13\n",
    "def task_thirteen(df):\n",
    "    median = df['% Renewable'].median()\n",
    "    df['Renewable bigger or equals median'] = df['% Renewable'].apply(lambda x: 1 if x >= median else 0)\n",
    "    return df['Renewable bigger or equals median']\n",
    "task_thirteen(merged_df)"
   ],
   "metadata": {
    "collapsed": false,
    "ExecuteTime": {
     "end_time": "2023-11-12T21:15:41.788733700Z",
     "start_time": "2023-11-12T21:15:41.728159700Z"
    }
   },
   "id": "279f603645d957a3"
  },
  {
   "cell_type": "code",
   "execution_count": 30,
   "outputs": [],
   "source": [
    "ContinentDict = {\n",
    "    'China':'Asia',\n",
    "    'United States':'North America',\n",
    "    'Japan':'Asia',\n",
    "    'United Kingdom':'Europe',\n",
    "    'Russian Federation':'Europe',\n",
    "    'Canada':'North America',\n",
    "    'Germany':'Europe',\n",
    "    'India':'Asia',\n",
    "    'France':'Europe',\n",
    "    'South Korea':'Asia',\n",
    "    'Italy':'Europe',\n",
    "    'Spain':'Europe',\n",
    "    'Iran':'Asia',\n",
    "    'Australia':'Australia',\n",
    "    'Brazil':'South America'\n",
    "}"
   ],
   "metadata": {
    "collapsed": false,
    "ExecuteTime": {
     "end_time": "2023-11-12T21:15:41.788733700Z",
     "start_time": "2023-11-12T21:15:41.736395800Z"
    }
   },
   "id": "958d1c0d4363bd8d"
  },
  {
   "cell_type": "code",
   "execution_count": 30,
   "outputs": [],
   "source": [],
   "metadata": {
    "collapsed": false,
    "ExecuteTime": {
     "end_time": "2023-11-12T21:15:41.788733700Z",
     "start_time": "2023-11-12T21:15:41.741217900Z"
    }
   },
   "id": "fdff7e42f3804903"
  }
 ],
 "metadata": {
  "kernelspec": {
   "display_name": "Python 3",
   "language": "python",
   "name": "python3"
  },
  "language_info": {
   "codemirror_mode": {
    "name": "ipython",
    "version": 2
   },
   "file_extension": ".py",
   "mimetype": "text/x-python",
   "name": "python",
   "nbconvert_exporter": "python",
   "pygments_lexer": "ipython2",
   "version": "2.7.6"
  }
 },
 "nbformat": 4,
 "nbformat_minor": 5
}
